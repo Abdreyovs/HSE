{
 "cells": [
  {
   "cell_type": "markdown",
   "metadata": {},
   "source": [
    "<center>\n",
    "<img src=\"../../img/ods_stickers.jpg\">\n",
    "## Открытый курс по машинному обучению\n",
    "</center>\n",
    "<center>Автор материала: программист-исследователь Mail.ru Group, старший преподаватель <br>Факультета Компьютерных Наук ВШЭ Юрий Кашницкий"
   ]
  },
  {
   "cell_type": "markdown",
   "metadata": {},
   "source": [
    "# <center> Домашнее задание № 8. Часть 2\n",
    "## <center> Vowpal Wabbit в задаче классификации тегов вопросов на Stackoverflow"
   ]
  },
  {
   "cell_type": "markdown",
   "metadata": {},
   "source": [
    "## План 2 части домашнего задания\n",
    "    2.1. Введение\n",
    "    2.2. Описание данных\n",
    "    2.3. Предобработка данных\n",
    "    2.4. Обучение и проверка моделей\n",
    "    2.5. Заключение"
   ]
  },
  {
   "cell_type": "markdown",
   "metadata": {},
   "source": [
    "### 2.1. Введение\n",
    "\n",
    "В этом задании вы будете делать примерно то же, что я каждую неделю –  в Mail.ru Group: обучать модели на выборке в несколько гигабайт. Задание можно выполнить и на Windows с Python, но я рекомендую поработать под \\*NIX-системой (например, через Docker) и активно использовать язык bash.\n",
    "Немного снобизма (простите, но правда): если вы захотите работать в лучших компаниях мира в области ML, вам все равно понадобится опыт работы с bash под UNIX.\n",
    "\n",
    "[Веб-форма](https://goo.gl/forms/z8zENbMiaEAeB7nG3) для ответов.\n",
    "\n",
    "Для выполнения задания понадобится установленный Vowpal Wabbit (уже есть в докер-контейнере курса, см. инструкцию в README [репозитория](https://github.com/Yorko/mlcourse_open) нашего курса) и примерно 70 Гб дискового пространства. Я тестировал решение не на каком-то суперкомпе, а на Macbook Pro 2015 (8 ядер, 16 Гб памяти), и самая тяжеловесная модель обучалась около 12 минут, так что задание реально выполнить и с простым железом. Но если вы планируете когда-либо арендовать сервера Amazon, можно попробовать это сделать уже сейчас.\n",
    "\n",
    "Материалы в помощь:\n",
    " - интерактивный [тьюториал](https://www.codecademy.com/en/courses/learn-the-command-line/lessons/environment/exercises/bash-profile) CodeAcademy по утилитам командной строки UNIX (примерно на час-полтора)\n",
    " - [статья](https://habrahabr.ru/post/280562/) про то, как арендовать на Amazon машину (еще раз: это не обязательно для выполнения задания, но будет хорошим опытом, если вы это делаете впервые)"
   ]
  },
  {
   "cell_type": "markdown",
   "metadata": {},
   "source": [
    "### 2.2. Описание данных"
   ]
  },
  {
   "cell_type": "markdown",
   "metadata": {},
   "source": [
    "Имеются 10 Гб вопросов со StackOverflow – [скачайте](https://yadi.sk/d/krikdUic3Ggjyf) эту выборку. \n",
    "\n",
    "Формат данных простой:<br>\n",
    "<center>*текст вопроса* (слова через пробел) TAB *теги вопроса* (через пробел)\n",
    "\n",
    "Здесь TAB – это символ табуляции.\n",
    "Пример первой записи в выборке:"
   ]
  },
  {
   "cell_type": "code",
   "execution_count": 1,
   "metadata": {},
   "outputs": [
    {
     "name": "stdout",
     "output_type": "stream",
     "text": [
      " is there a way to apply a background color through css at the tr level i can apply it at the td level like this my td background color e8e8e8 background e8e8e8 however the background color doesn t seem to get applied when i attempt to apply the background color at the tr level like this my tr background color e8e8e8 background e8e8e8 is there a css trick to making this work or does css not natively support this for some reason \tcss css3 css-selectors\r\n"
     ]
    }
   ],
   "source": [
    "!head -1 stackoverflow.10kk.tsv"
   ]
  },
  {
   "cell_type": "code",
   "execution_count": 2,
   "metadata": {},
   "outputs": [
    {
     "name": "stdout",
     "output_type": "stream",
     "text": [
      "Untitled.ipynb\r\n",
      "Untitled1.ipynb\r\n",
      "csv_to_vw.py\r\n",
      "hw8_part1_komarov.ipynb\r\n",
      "hw8_part2_komarov.ipynb\r\n",
      "hw8_part2_vw_stackoverflow_tags_10mln.html\r\n",
      "hw8_part2_vw_stackoverflow_tags_10mln.html.pdf\r\n",
      "preprocess.py\r\n",
      "preprocess2.py\r\n",
      "stackoverflow.10kk.tsv\r\n",
      "stackoverflow_filtered-3.tsv\r\n",
      "topic8_sgd_hashing_vowpal_wabbit.ipynb\r\n"
     ]
    }
   ],
   "source": [
    "!ls"
   ]
  },
  {
   "cell_type": "markdown",
   "metadata": {},
   "source": [
    "Здесь у нас текст вопроса, затем табуляция и теги вопроса: *css, css3* и *css-selectors*. Всего в выборке таких вопросов 10 миллионов. "
   ]
  },
  {
   "cell_type": "code",
   "execution_count": null,
   "metadata": {
    "collapsed": true
   },
   "outputs": [],
   "source": [
    "%%time\n",
    "!wc -l stackoverflow.10kk.tsv"
   ]
  },
  {
   "cell_type": "markdown",
   "metadata": {},
   "source": [
    "Обратите внимание на то, что такие данные я уже не хочу загружать в оперативную память и, пока можно, буду пользоваться эффективными утилитами UNIX –  head, tail, wc, cat, cut и прочими."
   ]
  },
  {
   "cell_type": "markdown",
   "metadata": {},
   "source": [
    "### 2.3. Предобработка данных"
   ]
  },
  {
   "cell_type": "markdown",
   "metadata": {},
   "source": [
    "Давайте выберем в наших данных все вопросы с тегами *javascript, java, python, ruby, php, c++, c#, go, scala* и  *swift* и подготовим обучающую выборку в формате Vowpal Wabbit. Будем решать задачу 10-классовой классификации вопросов по перечисленным тегам.\n",
    "\n",
    "Вообще, как мы видим, у каждого вопроса может быть несколько тегов, но мы упростим себе задачу и будем у каждого вопроса выбирать один из перечисленных тегов либо игнорировать вопрос, если таковых тегов нет. \n",
    "Но вообще VW поддерживает multilabel classification (аргумент  --multilabel_oaa).\n",
    "<br>\n",
    "<br>\n",
    "Реализуйте в виде отдельного файла `preprocess.py` код для подготовки данных. Он должен отобрать строки, в которых есть перечисленные теги, и переписать их в отдельный файл в формат Vowpal Wabbit. Детали:\n",
    " - скрипт должен работать с аргументами командной строки: с путями к файлам на входе и на выходе\n",
    " - строки обрабатываются по одной (можно использовать tqdm для подсчета числа итераций)\n",
    " - если табуляций в строке нет или их больше одной, считаем строку поврежденной и пропускаем\n",
    " - в противном случае смотрим, сколько в строке тегов из списка *javascript, java, python, ruby, php, c++, c#, go, scala* и  *swift*. Если ровно один, то записываем строку в выходной файл в формате VW: `label | text`, где `label` – число от 1 до 10 (1 - *javascript*, ... 10 – *swift*). Пропускаем те строки, где интересующих тегов больше или меньше одного \n",
    " - из текста вопроса надо выкинуть двоеточия и вертикальные палки, если они есть – в VW это спецсимволы"
   ]
  },
  {
   "cell_type": "code",
   "execution_count": 4,
   "metadata": {
    "collapsed": true
   },
   "outputs": [],
   "source": [
    "import os\n",
    "from tqdm import tqdm\n",
    "from time import time\n",
    "import numpy as np\n",
    "from sklearn.metrics import accuracy_score"
   ]
  },
  {
   "cell_type": "code",
   "execution_count": null,
   "metadata": {
    "collapsed": true
   },
   "outputs": [],
   "source": [
    "%%time\n",
    "!grep -P -e '\\t(.+\\s)?((java)|(javascript)|(python)|(ruby)|(php)|(c\\+\\+)|(c#)|(go)|(scala)|(swift))(\\s|$)' < stackoverflow.10kk.tsv > stackoverflow.10kk.filtered-3.tsv; date; wc -l stackoverflow.10kk.filtered-3.tsv; date"
   ]
  },
  {
   "cell_type": "code",
   "execution_count": 3,
   "metadata": {},
   "outputs": [
    {
     "name": "stdout",
     "output_type": "stream",
     "text": [
      "Untitled.ipynb\r\n",
      "Untitled1.ipynb\r\n",
      "csv_to_vw.py\r\n",
      "hw8_part1_komarov.ipynb\r\n",
      "hw8_part2_komarov.ipynb\r\n",
      "hw8_part2_vw_stackoverflow_tags_10mln.html\r\n",
      "hw8_part2_vw_stackoverflow_tags_10mln.html.pdf\r\n",
      "preprocess.py\r\n",
      "preprocess2.py\r\n",
      "stackoverflow.10kk.tsv\r\n",
      "stackoverflow_filtered-3.tsv\r\n",
      "topic8_sgd_hashing_vowpal_wabbit.ipynb\r\n"
     ]
    }
   ],
   "source": [
    "!ls"
   ]
  },
  {
   "cell_type": "markdown",
   "metadata": {
    "collapsed": true
   },
   "source": [
    "Должно получиться вот такое число строк – 4389054. Как видите, 10 Гб у меня обработались примерно за полторы минуты."
   ]
  },
  {
   "cell_type": "code",
   "execution_count": 4,
   "metadata": {
    "scrolled": true
   },
   "outputs": [
    {
     "name": "stdout",
     "output_type": "stream",
     "text": [
      "CPU times: user 2.82 s, sys: 510 ms, total: 3.33 s\n",
      "Wall time: 2min 13s\n"
     ]
    }
   ],
   "source": [
    "%%time\n",
    "!python preprocess2.py stackoverflow_filtered-3.tsv stackoverflow.vw"
   ]
  },
  {
   "cell_type": "code",
   "execution_count": 6,
   "metadata": {},
   "outputs": [
    {
     "name": "stdout",
     "output_type": "stream",
     "text": [
      "4389058 stackoverflow.vw\n",
      "CPU times: user 400 ms, sys: 60 ms, total: 460 ms\n",
      "Wall time: 18.9 s\n"
     ]
    }
   ],
   "source": [
    "%%time\n",
    "!wc -l stackoverflow.vw"
   ]
  },
  {
   "cell_type": "code",
   "execution_count": 5,
   "metadata": {},
   "outputs": [
    {
     "name": "stdout",
     "output_type": "stream",
     "text": [
      "Untitled.ipynb\r\n",
      "Untitled1.ipynb\r\n",
      "csv_to_vw.py\r\n",
      "hw8_part1_komarov.ipynb\r\n",
      "hw8_part2_komarov.ipynb\r\n",
      "hw8_part2_vw_stackoverflow_tags_10mln.html\r\n",
      "hw8_part2_vw_stackoverflow_tags_10mln.html.pdf\r\n",
      "preprocess.py\r\n",
      "preprocess2.py\r\n",
      "stackoverflow.10kk.tsv\r\n",
      "stackoverflow.vw\r\n",
      "stackoverflow_filtered-3.tsv\r\n",
      "topic8_sgd_hashing_vowpal_wabbit.ipynb\r\n"
     ]
    }
   ],
   "source": [
    "!ls"
   ]
  },
  {
   "cell_type": "code",
   "execution_count": 4,
   "metadata": {},
   "outputs": [
    {
     "name": "stdout",
     "output_type": "stream",
     "text": [
      "Untitled.ipynb\r\n",
      "Untitled1.ipynb\r\n",
      "Untitled2.ipynb\r\n",
      "csv_to_vw.py\r\n",
      "hw8_part1_komarov.ipynb\r\n",
      "hw8_part2_komarov.ipynb\r\n",
      "hw8_part2_vw_stackoverflow_tags_10mln.html\r\n",
      "hw8_part2_vw_stackoverflow_tags_10mln.html.pdf\r\n",
      "preprocess.py\r\n",
      "preprocess2.py\r\n",
      "preprocessnew.py\r\n",
      "stackoverflow.10kk.tsv\r\n",
      "stackoverflow.vw\r\n",
      "stackoverflow_filtered-3.tsv\r\n",
      "stackoverflow_test.vw\r\n",
      "stackoverflow_test_labels.txt\r\n",
      "stackoverflow_train.vw\r\n",
      "stackoverflow_valid.vw\r\n",
      "stackoverflow_valid_labels.txt\r\n",
      "topic8_sgd_hashing_vowpal_wabbit.ipynb\r\n",
      "vw_model1_10mln.vw\r\n"
     ]
    }
   ],
   "source": [
    "!ls"
   ]
  },
  {
   "cell_type": "markdown",
   "metadata": {},
   "source": [
    "Поделите выборку на обучающую, проверочную и тестовую части в равной пропорции - по  1463018 в каждый файл. Перемешивать не надо, первые 1463018 строк должны пойти в обучающую часть `stackoverflow_train.vw`, последние 1463018 – в тестовую `stackoverflow_test.vw`, оставшиеся – в проверочную `stackoverflow_valid.vw`. \n",
    "\n",
    "Также сохраните векторы ответов для проверочной и тестовой выборки в отдельные файлы `stackoverflow_valid_labels.txt` и `stackoverflow_test_labels.txt`.\n",
    "\n",
    "Тут вам помогут утилиты `head`, `tail`, `split`, `cat` и `cut`."
   ]
  },
  {
   "cell_type": "markdown",
   "metadata": {},
   "source": [
    "### 2.4. Обучение и проверка моделей"
   ]
  },
  {
   "cell_type": "markdown",
   "metadata": {},
   "source": [
    "Обучите Vowpal Wabbit на выборке `stackoverflow_train.vw` 9 раз, перебирая параметры passes (1,3,5), ngram (1,2,3).\n",
    "Остальные параметры укажите следующие: bit_precision=28 и seed=17. Также скажите VW, что это 10-классовая задача.\n",
    "\n",
    "Проверяйте долю правильных ответов на выборке `stackoverflow_valid.vw`. Выберите лучшую модель и проверьте качество на выборке `stackoverflow_test.vw`."
   ]
  },
  {
   "cell_type": "code",
   "execution_count": 8,
   "metadata": {},
   "outputs": [
    {
     "name": "stdout",
     "output_type": "stream",
     "text": [
      "CPU times: user 740 ms, sys: 120 ms, total: 860 ms\n",
      "Wall time: 34.7 s\n"
     ]
    }
   ],
   "source": [
    "%%time\n",
    "!vw --oaa 10 -d stackoverflow_train.vw -f vw_model_11.vw -b 28 --random_seed 17 --passes 1 --ngram 1 --quiet"
   ]
  },
  {
   "cell_type": "code",
   "execution_count": 9,
   "metadata": {},
   "outputs": [
    {
     "name": "stdout",
     "output_type": "stream",
     "text": [
      "CPU times: user 3.51 s, sys: 830 ms, total: 4.34 s\n",
      "Wall time: 2min 48s\n"
     ]
    }
   ],
   "source": [
    "%%time\n",
    "!vw -t -i vw_model_11.vw -d stackoverflow_valid.vw -p vw_valid_11.csv --random_seed 17 --quiet"
   ]
  },
  {
   "cell_type": "code",
   "execution_count": 10,
   "metadata": {},
   "outputs": [
    {
     "name": "stdout",
     "output_type": "stream",
     "text": [
      "CPU times: user 23 s, sys: 290 ms, total: 23.2 s\n",
      "Wall time: 23.4 s\n"
     ]
    }
   ],
   "source": [
    "%%time\n",
    "import os\n",
    "import numpy as np\n",
    "from sklearn.metrics import accuracy_score\n",
    "\n",
    "vw_pred = np.loadtxt('vw_valid_11.csv')\n",
    "test_labels = np.loadtxt(os.path.join('stackoverflow_valid_labels.txt'))\n",
    "accuracy_score(test_labels, vw_pred)"
   ]
  },
  {
   "cell_type": "code",
   "execution_count": 11,
   "metadata": {},
   "outputs": [
    {
     "name": "stdout",
     "output_type": "stream",
     "text": [
      "0.915088536163\n"
     ]
    }
   ],
   "source": []
  },
  {
   "cell_type": "code",
   "execution_count": 13,
   "metadata": {},
   "outputs": [
    {
     "name": "stdout",
     "output_type": "stream",
     "text": [
      "0.914448079244\n",
      "CPU times: user 25.2 s, sys: 570 ms, total: 25.8 s\n",
      "Wall time: 2min 33s\n"
     ]
    }
   ],
   "source": [
    "%%time\n",
    "!vw --oaa 10 -d stackoverflow_train.vw -f vw_model_31.vw -b 28 --random_seed 17 --passes 3 --ngram 1 --quiet --cache_file cache_test\n",
    "!vw -t -i vw_model_31.vw -d stackoverflow_valid.vw -p vw_valid_31.csv --random_seed 17 --quiet\n",
    "vw_pred = np.loadtxt('vw_valid_31.csv')\n",
    "test_labels = np.loadtxt(os.path.join('stackoverflow_valid_labels.txt'))\n",
    "print(accuracy_score(test_labels, vw_pred))"
   ]
  },
  {
   "cell_type": "code",
   "execution_count": 14,
   "metadata": {},
   "outputs": [
    {
     "name": "stdout",
     "output_type": "stream",
     "text": [
      "0.913969616232\n",
      "CPU times: user 25.2 s, sys: 840 ms, total: 26.1 s\n",
      "Wall time: 3min 9s\n"
     ]
    }
   ],
   "source": [
    "%%time\n",
    "!vw --oaa 10 -d stackoverflow_train.vw -f vw_model_51.vw -b 28 --random_seed 17 --passes 5 --ngram 1 --quiet --cache_file cache_test\n",
    "!vw -t -i vw_model_51.vw -d stackoverflow_valid.vw -p vw_valid_51.csv --random_seed 17 --quiet\n",
    "vw_pred = np.loadtxt('vw_valid_51.csv')\n",
    "test_labels = np.loadtxt(os.path.join('stackoverflow_valid_labels.txt'))\n",
    "print(accuracy_score(test_labels, vw_pred))"
   ]
  },
  {
   "cell_type": "code",
   "execution_count": 16,
   "metadata": {},
   "outputs": [
    {
     "name": "stdout",
     "output_type": "stream",
     "text": [
      "0.931190867098\n",
      "CPU times: user 28.6 s, sys: 810 ms, total: 29.4 s\n",
      "Wall time: 3min 44s\n"
     ]
    }
   ],
   "source": [
    "%%time\n",
    "!vw --oaa 10 -d stackoverflow_train.vw -f vw_model_12.vw -b 28 --random_seed 17 --passes 1 --ngram 2 --quiet --cache_file cache_test\n",
    "!vw -t -i vw_model_12.vw -d stackoverflow_valid.vw -p vw_valid_12.csv --random_seed 17 --quiet\n",
    "vw_pred = np.loadtxt('vw_valid_12.csv')\n",
    "test_labels = np.loadtxt(os.path.join('stackoverflow_valid_labels.txt'))\n",
    "print(accuracy_score(test_labels, vw_pred))"
   ]
  },
  {
   "cell_type": "code",
   "execution_count": 17,
   "metadata": {},
   "outputs": [
    {
     "name": "stdout",
     "output_type": "stream",
     "text": [
      "0.927914078979\n",
      "CPU times: user 34.3 s, sys: 1.94 s, total: 36.3 s\n",
      "Wall time: 8min 4s\n"
     ]
    }
   ],
   "source": [
    "%%time\n",
    "!vw --oaa 10 -d stackoverflow_train.vw -f vw_model_32.vw -b 28 --random_seed 17 --passes 3 --ngram 2 --quiet --cache_file cache_test\n",
    "!vw -t -i vw_model_32.vw -d stackoverflow_valid.vw -p vw_valid_32.csv --random_seed 17 --quiet\n",
    "vw_pred = np.loadtxt('vw_valid_32.csv')\n",
    "test_labels = np.loadtxt(os.path.join('stackoverflow_valid_labels.txt'))\n",
    "print(accuracy_score(test_labels, vw_pred))"
   ]
  },
  {
   "cell_type": "code",
   "execution_count": 18,
   "metadata": {},
   "outputs": [
    {
     "name": "stdout",
     "output_type": "stream",
     "text": [
      "0.929383643947\n",
      "CPU times: user 34.4 s, sys: 2.16 s, total: 36.5 s\n",
      "Wall time: 9min 28s\n"
     ]
    }
   ],
   "source": [
    "%%time\n",
    "!vw --oaa 10 -d stackoverflow_train.vw -f vw_model_52.vw -b 28 --random_seed 17 --passes 5 --ngram 2 --quiet --cache_file cache_test\n",
    "!vw -t -i vw_model_52.vw -d stackoverflow_valid.vw -p vw_valid_52.csv --random_seed 17 --quiet\n",
    "vw_pred = np.loadtxt('vw_valid_52.csv')\n",
    "test_labels = np.loadtxt(os.path.join('stackoverflow_valid_labels.txt'))\n",
    "print(accuracy_score(test_labels, vw_pred))"
   ]
  },
  {
   "cell_type": "code",
   "execution_count": 19,
   "metadata": {},
   "outputs": [
    {
     "name": "stdout",
     "output_type": "stream",
     "text": [
      "0.9286796198\n",
      "CPU times: user 30 s, sys: 1.61 s, total: 31.6 s\n",
      "Wall time: 7min 2s\n"
     ]
    }
   ],
   "source": [
    "%%time\n",
    "!vw --oaa 10 -d stackoverflow_train.vw -f vw_model_13.vw -b 28 --random_seed 17 --passes 1 --ngram 3 --quiet --cache_file cache_test\n",
    "!vw -t -i vw_model_13.vw -d stackoverflow_valid.vw -p vw_valid_13.csv --random_seed 17 --quiet\n",
    "vw_pred = np.loadtxt('vw_valid_13.csv')\n",
    "test_labels = np.loadtxt(os.path.join('stackoverflow_valid_labels.txt'))\n",
    "print(accuracy_score(test_labels, vw_pred))"
   ]
  },
  {
   "cell_type": "code",
   "execution_count": 20,
   "metadata": {},
   "outputs": [
    {
     "name": "stdout",
     "output_type": "stream",
     "text": [
      "0.926203915468\n",
      "CPU times: user 42.7 s, sys: 3.36 s, total: 46 s\n",
      "Wall time: 15min 45s\n"
     ]
    }
   ],
   "source": [
    "%%time\n",
    "!vw --oaa 10 -d stackoverflow_train.vw -f vw_model_33.vw -b 28 --random_seed 17 --passes 3 --ngram 3 --quiet --cache_file cache_test\n",
    "!vw -t -i vw_model_33.vw -d stackoverflow_valid.vw -p vw_valid_33.csv --random_seed 17 --quiet\n",
    "vw_pred = np.loadtxt('vw_valid_33.csv')\n",
    "test_labels = np.loadtxt(os.path.join('stackoverflow_valid_labels.txt'))\n",
    "print(accuracy_score(test_labels, vw_pred))"
   ]
  },
  {
   "cell_type": "code",
   "execution_count": null,
   "metadata": {
    "collapsed": true
   },
   "outputs": [],
   "source": [
    "#%%time\n",
    "#!vw --oaa 10 -d stackoverflow_train.vw -f vw_model_53.vw -b 28 --random_seed 17 --passes 1 --ngram 3 --quiet --cache_file cache_test\n",
    "#!vw -t -i vw_model_53.vw -d stackoverflow_valid.vw -p vw_valid_53.csv --random_seed 17 --quiet\n",
    "#vw_pred = np.loadtxt('vw_valid_53.csv')\n",
    "#test_labels = np.loadtxt(os.path.join('stackoverflow_valid_labels.txt'))\n",
    "#print(accuracy_score(test_labels, vw_pred))"
   ]
  },
  {
   "cell_type": "code",
   "execution_count": null,
   "metadata": {
    "collapsed": true
   },
   "outputs": [],
   "source": []
  },
  {
   "cell_type": "markdown",
   "metadata": {},
   "source": [
    "<font color='red'> Вопрос 1.</font> Какое сочетание параметров дает наибольшую долю правильных ответов на проверочной выборке `stackoverflow_valid.vw`?\n",
    "- Биграммы и 3 прохода по выборке\n",
    "- Триграммы и 5 проходов по выборке\n",
    "- Биграммы и 1 проход по выборке\n",
    "- Униграммы и 1 проход по выборке"
   ]
  },
  {
   "cell_type": "markdown",
   "metadata": {},
   "source": [
    "Проверьте лучшую (по доле правильных ответов на валидации) модель на тестовой выборке. "
   ]
  },
  {
   "cell_type": "code",
   "execution_count": 21,
   "metadata": {},
   "outputs": [
    {
     "name": "stdout",
     "output_type": "stream",
     "text": [
      "0.931083554679\n",
      "CPU times: user 24 s, sys: 330 ms, total: 24.3 s\n",
      "Wall time: 1min 30s\n"
     ]
    }
   ],
   "source": [
    "%%time\n",
    "#!vw --oaa 10 -d stackoverflow_train.vw -f vw_model_12.vw -b 28 --random_seed 17 --passes 1 --ngram 2 --quiet --cache_file cache_test\n",
    "!vw -t -i vw_model_12.vw -d stackoverflow_test.vw -p vw_valid_12_t.csv --random_seed 17 --quiet\n",
    "vw_pred = np.loadtxt('vw_valid_12_t.csv')\n",
    "test_labels = np.loadtxt(os.path.join('stackoverflow_test_labels.txt'))\n",
    "print(accuracy_score(test_labels, vw_pred))"
   ]
  },
  {
   "cell_type": "code",
   "execution_count": 22,
   "metadata": {},
   "outputs": [
    {
     "name": "stdout",
     "output_type": "stream",
     "text": [
      "CPU times: user 1.14 s, sys: 190 ms, total: 1.33 s\n",
      "Wall time: 51.3 s\n"
     ]
    }
   ],
   "source": [
    "%%time\n",
    "!cat stackoverflow_train.vw  stackoverflow_valid.vw > stackoverflow_2.vw"
   ]
  },
  {
   "cell_type": "markdown",
   "metadata": {},
   "source": [
    "<font color='red'> Вопрос 2.</font> Как соотносятся доли правильных ответов лучшей (по доле правильных ответов на валидации) модели на проверочной и на тестовой выборках? (здесь % – это процентный пункт, т.е., скажем, снижение с 50% до 40% – это на 10%, а не 20%).\n",
    "- На тестовой ниже примерно на 2%\n",
    "- На тестовой ниже примерно на 3%\n",
    "- Результаты почти одинаковы – отличаются меньше чем на 0.5%"
   ]
  },
  {
   "cell_type": "markdown",
   "metadata": {},
   "source": [
    "Обучите VW с параметрами, подобранными на проверочной выборке, теперь на объединении обучающей и проверочной выборок. Посчитайте долю правильных ответов на тестовой выборке. "
   ]
  },
  {
   "cell_type": "code",
   "execution_count": 23,
   "metadata": {},
   "outputs": [
    {
     "name": "stdout",
     "output_type": "stream",
     "text": [
      "0.931083554679\n"
     ]
    }
   ],
   "source": [
    "!vw --oaa 10 -d stackoverflow_2.vw -f vw_model_12_2.vw -b 28 --random_seed 17 --passes 1 --ngram 2 --quiet --cache_file cache_test\n",
    "!vw -t -i vw_model_12_2.vw -d stackoverflow_test.vw -p vw_valid_12_t2.csv --random_seed 17 --quiet\n",
    "vw_pred = np.loadtxt('vw_valid_12_t2.csv')\n",
    "test_labels = np.loadtxt(os.path.join('stackoverflow_test_labels.txt'))\n",
    "print(accuracy_score(test_labels, vw_pred))"
   ]
  },
  {
   "cell_type": "markdown",
   "metadata": {},
   "source": [
    "<font color='red'> Вопрос 3.</font> На сколько процентных пунктов повысилась доля правильных ответов модели после обучения на вдвое большей выборке (обучающая `stackoverflow_train.vw` + проверочная `stackoverflow_valid.vw`) по сравнению с моделью, обученной только на `stackoverflow_train.vw`?\n",
    " - 0.1%\n",
    " - 0.4%\n",
    " - 0.8%\n",
    " - 1.2%"
   ]
  },
  {
   "cell_type": "markdown",
   "metadata": {},
   "source": [
    "### 2.5. Заключение"
   ]
  },
  {
   "cell_type": "markdown",
   "metadata": {},
   "source": [
    "В этом задании мы только познакомились с Vowpal Wabbit. Что еще можно попробовать:\n",
    " - Классификация с несколькими ответами (multilabel classification, аргумент  `multilabel_oaa`) – формат данных тут как раз под такую задачу\n",
    " - Настройка параметров VW с hyperopt, авторы библиотеки утверждают, что качество должно сильно зависеть от параметров изменения шага градиентного спуска (`initial_t` и `power_t`). Также можно потестировать разные функции потерь – обучать логистическую регресиию или линейный SVM\n",
    " - Познакомиться с факторизационными машинами и их реализацией в VW (аргумент `lrq`)"
   ]
  }
 ],
 "metadata": {
  "kernelspec": {
   "display_name": "Python 3",
   "language": "python",
   "name": "python3"
  },
  "language_info": {
   "codemirror_mode": {
    "name": "ipython",
    "version": 3
   },
   "file_extension": ".py",
   "mimetype": "text/x-python",
   "name": "python",
   "nbconvert_exporter": "python",
   "pygments_lexer": "ipython3",
   "version": "3.5.2"
  }
 },
 "nbformat": 4,
 "nbformat_minor": 2
}
