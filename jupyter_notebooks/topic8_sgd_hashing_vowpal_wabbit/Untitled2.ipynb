{
 "cells": [
  {
   "cell_type": "code",
   "execution_count": 1,
   "metadata": {
    "collapsed": true
   },
   "outputs": [],
   "source": [
    "!awk"
   ]
  },
  {
   "cell_type": "code",
   "execution_count": 2,
   "metadata": {},
   "outputs": [
    {
     "name": "stdout",
     "output_type": "stream",
     "text": [
      "Untitled.ipynb\r\n",
      "Untitled1.ipynb\r\n",
      "Untitled2.ipynb\r\n",
      "csv_to_vw.py\r\n",
      "hw8_part1_komarov.ipynb\r\n",
      "hw8_part2_komarov.ipynb\r\n",
      "hw8_part2_vw_stackoverflow_tags_10mln.html\r\n",
      "hw8_part2_vw_stackoverflow_tags_10mln.html.pdf\r\n",
      "preprocess.py\r\n",
      "preprocess2.py\r\n",
      "stackoverflow.10kk.tsv\r\n",
      "stackoverflow.vw\r\n",
      "stackoverflow_filtered-3.tsv\r\n",
      "topic8_sgd_hashing_vowpal_wabbit.ipynb\r\n"
     ]
    }
   ],
   "source": [
    "!ls"
   ]
  },
  {
   "cell_type": "code",
   "execution_count": null,
   "metadata": {
    "collapsed": true
   },
   "outputs": [],
   "source": []
  }
 ],
 "metadata": {
  "kernelspec": {
   "display_name": "Python 3",
   "language": "python",
   "name": "python3"
  },
  "language_info": {
   "codemirror_mode": {
    "name": "ipython",
    "version": 3
   },
   "file_extension": ".py",
   "mimetype": "text/x-python",
   "name": "python",
   "nbconvert_exporter": "python",
   "pygments_lexer": "ipython3",
   "version": "3.5.2"
  }
 },
 "nbformat": 4,
 "nbformat_minor": 2
}
