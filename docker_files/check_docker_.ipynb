{
 "cells": [
  {
   "cell_type": "code",
   "execution_count": 1,
   "metadata": {
    "collapsed": true
   },
   "outputs": [],
   "source": [
    "import xgboost, lightgbm"
   ]
  },
  {
   "cell_type": "code",
   "execution_count": 2,
   "metadata": {},
   "outputs": [
    {
     "name": "stderr",
     "output_type": "stream",
     "text": [
      "Using TensorFlow backend.\n"
     ]
    }
   ],
   "source": [
    "import keras"
   ]
  },
  {
   "cell_type": "code",
   "execution_count": 3,
   "metadata": {},
   "outputs": [
    {
     "name": "stdout",
     "output_type": "stream",
     "text": [
      "8.3.2\r\n"
     ]
    }
   ],
   "source": [
    "!vw --version"
   ]
  },
  {
   "cell_type": "code",
   "execution_count": 1,
   "metadata": {},
   "outputs": [
    {
     "name": "stdout",
     "output_type": "stream",
     "text": [
      "CPython 3.5.2\n",
      "IPython 6.0.0\n",
      "\n",
      "numpy 1.12.1\n",
      "scipy 0.19.0\n",
      "pandas 0.19.2\n",
      "matplotlib 2.0.0\n",
      "sklearn 0.18.1\n",
      "\n",
      "compiler   : GCC 5.4.0 20160609\n",
      "system     : Linux\n",
      "release    : 4.9.13-moby\n",
      "machine    : x86_64\n",
      "processor  : x86_64\n",
      "CPU cores  : 7\n",
      "interpreter: 64bit\n",
      "Python 2.7.12\r\n"
     ]
    }
   ],
   "source": [
    "%load_ext watermark\n",
    "%watermark -v -m -p numpy,scipy,pandas,matplotlib,sklearn \n",
    "!python --version "
   ]
  },
  {
   "cell_type": "code",
   "execution_count": 5,
   "metadata": {},
   "outputs": [
    {
     "name": "stdout",
     "output_type": "stream",
     "text": [
      "              total        used        free      shared  buff/cache   available\r\n",
      "Mem:          10966         372       10222         153         372       10177\r\n",
      "Swap:          1023           0        1023\r\n"
     ]
    }
   ],
   "source": [
    "!free -m"
   ]
  },
  {
   "cell_type": "code",
   "execution_count": 6,
   "metadata": {
    "collapsed": true
   },
   "outputs": [],
   "source": [
    "import warnings\n",
    "warnings.filterwarnings('ignore')\n",
    "%matplotlib inline\n",
    "from matplotlib import pyplot as plt\n",
    "import seaborn as sns\n",
    "import pandas as pd\n",
    "from sklearn import datasets\n",
    "from sklearn.model_selection import train_test_split\n",
    "from sklearn.metrics import roc_curve"
   ]
  },
  {
   "cell_type": "code",
   "execution_count": 7,
   "metadata": {},
   "outputs": [
    {
     "data": {
      "application/vnd.jupyter.widget-view+json": {
       "model_id": "7fc046adc3894ebbb2b52351316abb0c"
      }
     },
     "metadata": {},
     "output_type": "display_data"
    },
    {
     "name": "stdout",
     "output_type": "stream",
     "text": [
      "\n"
     ]
    }
   ],
   "source": [
    "import time\n",
    "from tqdm import tqdm_notebook\n",
    "for i in tqdm_notebook(range(100)):\n",
    "    time.sleep(0.05)"
   ]
  },
  {
   "cell_type": "code",
   "execution_count": 8,
   "metadata": {},
   "outputs": [
    {
     "data": {
      "text/html": [
       "<div>\n",
       "<table border=\"1\" class=\"dataframe\">\n",
       "  <thead>\n",
       "    <tr style=\"text-align: right;\">\n",
       "      <th></th>\n",
       "      <th>0</th>\n",
       "      <th>1</th>\n",
       "      <th>2</th>\n",
       "      <th>3</th>\n",
       "      <th>4</th>\n",
       "      <th>5</th>\n",
       "      <th>6</th>\n",
       "      <th>7</th>\n",
       "      <th>8</th>\n",
       "      <th>9</th>\n",
       "      <th>...</th>\n",
       "      <th>20</th>\n",
       "      <th>21</th>\n",
       "      <th>22</th>\n",
       "      <th>23</th>\n",
       "      <th>24</th>\n",
       "      <th>25</th>\n",
       "      <th>26</th>\n",
       "      <th>27</th>\n",
       "      <th>28</th>\n",
       "      <th>29</th>\n",
       "    </tr>\n",
       "  </thead>\n",
       "  <tbody>\n",
       "    <tr>\n",
       "      <th>0</th>\n",
       "      <td>0.045587</td>\n",
       "      <td>0.886137</td>\n",
       "      <td>0.400551</td>\n",
       "      <td>-0.985304</td>\n",
       "      <td>-0.646983</td>\n",
       "      <td>-0.923410</td>\n",
       "      <td>-1.174164</td>\n",
       "      <td>0.111892</td>\n",
       "      <td>0.906133</td>\n",
       "      <td>0.022389</td>\n",
       "      <td>...</td>\n",
       "      <td>-0.529759</td>\n",
       "      <td>-0.238553</td>\n",
       "      <td>-0.039359</td>\n",
       "      <td>-0.020639</td>\n",
       "      <td>-0.448643</td>\n",
       "      <td>1.019227</td>\n",
       "      <td>-1.104841</td>\n",
       "      <td>-1.279404</td>\n",
       "      <td>-1.363107</td>\n",
       "      <td>-0.639102</td>\n",
       "    </tr>\n",
       "    <tr>\n",
       "      <th>1</th>\n",
       "      <td>-0.066930</td>\n",
       "      <td>1.553214</td>\n",
       "      <td>-1.119350</td>\n",
       "      <td>0.363227</td>\n",
       "      <td>-0.497244</td>\n",
       "      <td>-1.015617</td>\n",
       "      <td>-1.079638</td>\n",
       "      <td>0.893029</td>\n",
       "      <td>0.029802</td>\n",
       "      <td>0.567963</td>\n",
       "      <td>...</td>\n",
       "      <td>0.454472</td>\n",
       "      <td>-0.671006</td>\n",
       "      <td>-1.025463</td>\n",
       "      <td>-1.351892</td>\n",
       "      <td>-2.108648</td>\n",
       "      <td>-0.302456</td>\n",
       "      <td>1.503113</td>\n",
       "      <td>0.811495</td>\n",
       "      <td>-0.985950</td>\n",
       "      <td>-1.251939</td>\n",
       "    </tr>\n",
       "    <tr>\n",
       "      <th>2</th>\n",
       "      <td>-0.986473</td>\n",
       "      <td>-0.892852</td>\n",
       "      <td>2.327667</td>\n",
       "      <td>-0.856502</td>\n",
       "      <td>-1.491128</td>\n",
       "      <td>0.525268</td>\n",
       "      <td>1.615825</td>\n",
       "      <td>0.965225</td>\n",
       "      <td>-0.335423</td>\n",
       "      <td>-0.046208</td>\n",
       "      <td>...</td>\n",
       "      <td>-0.353390</td>\n",
       "      <td>0.012930</td>\n",
       "      <td>-0.191415</td>\n",
       "      <td>0.032409</td>\n",
       "      <td>0.024361</td>\n",
       "      <td>-0.318594</td>\n",
       "      <td>0.226638</td>\n",
       "      <td>-2.075718</td>\n",
       "      <td>-1.503270</td>\n",
       "      <td>-0.272166</td>\n",
       "    </tr>\n",
       "    <tr>\n",
       "      <th>3</th>\n",
       "      <td>0.438207</td>\n",
       "      <td>0.034448</td>\n",
       "      <td>0.091095</td>\n",
       "      <td>0.520215</td>\n",
       "      <td>0.309097</td>\n",
       "      <td>-0.048248</td>\n",
       "      <td>0.781002</td>\n",
       "      <td>-1.107298</td>\n",
       "      <td>1.231762</td>\n",
       "      <td>0.802208</td>\n",
       "      <td>...</td>\n",
       "      <td>0.155662</td>\n",
       "      <td>-0.758385</td>\n",
       "      <td>-1.348869</td>\n",
       "      <td>-0.925186</td>\n",
       "      <td>-0.418273</td>\n",
       "      <td>1.254939</td>\n",
       "      <td>0.745986</td>\n",
       "      <td>-1.145446</td>\n",
       "      <td>0.912311</td>\n",
       "      <td>-2.544489</td>\n",
       "    </tr>\n",
       "    <tr>\n",
       "      <th>4</th>\n",
       "      <td>0.273483</td>\n",
       "      <td>-1.554828</td>\n",
       "      <td>1.283066</td>\n",
       "      <td>-0.682759</td>\n",
       "      <td>1.372061</td>\n",
       "      <td>0.942210</td>\n",
       "      <td>1.209102</td>\n",
       "      <td>0.337714</td>\n",
       "      <td>0.488864</td>\n",
       "      <td>-0.164338</td>\n",
       "      <td>...</td>\n",
       "      <td>0.548868</td>\n",
       "      <td>1.272126</td>\n",
       "      <td>2.060353</td>\n",
       "      <td>-1.309973</td>\n",
       "      <td>0.043215</td>\n",
       "      <td>-0.100715</td>\n",
       "      <td>-0.694355</td>\n",
       "      <td>0.511148</td>\n",
       "      <td>1.348952</td>\n",
       "      <td>-0.106177</td>\n",
       "    </tr>\n",
       "  </tbody>\n",
       "</table>\n",
       "<p>5 rows × 30 columns</p>\n",
       "</div>"
      ],
      "text/plain": [
       "         0         1         2         3         4         5         6   \\\n",
       "0  0.045587  0.886137  0.400551 -0.985304 -0.646983 -0.923410 -1.174164   \n",
       "1 -0.066930  1.553214 -1.119350  0.363227 -0.497244 -1.015617 -1.079638   \n",
       "2 -0.986473 -0.892852  2.327667 -0.856502 -1.491128  0.525268  1.615825   \n",
       "3  0.438207  0.034448  0.091095  0.520215  0.309097 -0.048248  0.781002   \n",
       "4  0.273483 -1.554828  1.283066 -0.682759  1.372061  0.942210  1.209102   \n",
       "\n",
       "         7         8         9     ...           20        21        22  \\\n",
       "0  0.111892  0.906133  0.022389    ...    -0.529759 -0.238553 -0.039359   \n",
       "1  0.893029  0.029802  0.567963    ...     0.454472 -0.671006 -1.025463   \n",
       "2  0.965225 -0.335423 -0.046208    ...    -0.353390  0.012930 -0.191415   \n",
       "3 -1.107298  1.231762  0.802208    ...     0.155662 -0.758385 -1.348869   \n",
       "4  0.337714  0.488864 -0.164338    ...     0.548868  1.272126  2.060353   \n",
       "\n",
       "         23        24        25        26        27        28        29  \n",
       "0 -0.020639 -0.448643  1.019227 -1.104841 -1.279404 -1.363107 -0.639102  \n",
       "1 -1.351892 -2.108648 -0.302456  1.503113  0.811495 -0.985950 -1.251939  \n",
       "2  0.032409  0.024361 -0.318594  0.226638 -2.075718 -1.503270 -0.272166  \n",
       "3 -0.925186 -0.418273  1.254939  0.745986 -1.145446  0.912311 -2.544489  \n",
       "4 -1.309973  0.043215 -0.100715 -0.694355  0.511148  1.348952 -0.106177  \n",
       "\n",
       "[5 rows x 30 columns]"
      ]
     },
     "execution_count": 8,
     "metadata": {},
     "output_type": "execute_result"
    }
   ],
   "source": [
    "X, Y = datasets.make_classification(10000, 30)\n",
    "pd.DataFrame(X).head(5)"
   ]
  },
  {
   "cell_type": "code",
   "execution_count": 9,
   "metadata": {
    "collapsed": true
   },
   "outputs": [],
   "source": [
    "X_train, X_test, y_train, y_test = train_test_split(X, Y)\n",
    "clsf = xgboost.XGBClassifier(n_estimators=200)\n",
    "clsf.fit(X_train, y_train)\n",
    "prediction = clsf.predict_proba(X_test)"
   ]
  },
  {
   "cell_type": "code",
   "execution_count": 10,
   "metadata": {},
   "outputs": [
    {
     "data": {
      "image/png": "[encoded data removed]",
      "text/plain": [
       "<matplotlib.figure.Figure at 0x7fd39013a2b0>"
      ]
     },
     "metadata": {},
     "output_type": "display_data"
    }
   ],
   "source": [
    "fpr, tpr, _ = roc_curve(y_test, prediction[:,1])\n",
    "plt.plot(fpr, tpr);"
   ]
  },
  {
   "cell_type": "code",
   "execution_count": 11,
   "metadata": {},
   "outputs": [
    {
     "ename": "SyntaxError",
     "evalue": "invalid character in identifier (<ipython-input-11-5e2cb9ff50f4>, line 2)",
     "output_type": "error",
     "traceback": [
      "\u001b[0;36m  File \u001b[0;32m\"<ipython-input-11-5e2cb9ff50f4>\"\u001b[0;36m, line \u001b[0;32m2\u001b[0m\n\u001b[0;31m    \u001b[0m\n\u001b[0m    ^\u001b[0m\n\u001b[0;31mSyntaxError\u001b[0m\u001b[0;31m:\u001b[0m invalid character in identifier\n"
     ]
    }
   ],
   "source": [
    "import platform\n",
    " \n",
    "print(platform.python_version())"
   ]
  },
  {
   "cell_type": "code",
   "execution_count": 12,
   "metadata": {},
   "outputs": [
    {
     "ename": "NameError",
     "evalue": "name 'python' is not defined",
     "output_type": "error",
     "traceback": [
      "\u001b[0;31m---------------------------------------------------------------------------\u001b[0m",
      "\u001b[0;31mNameError\u001b[0m                                 Traceback (most recent call last)",
      "\u001b[0;32m<ipython-input-12-4da7a66db466>\u001b[0m in \u001b[0;36m<module>\u001b[0;34m()\u001b[0m\n\u001b[0;32m----> 1\u001b[0;31m \u001b[0mpython\u001b[0m \u001b[0;34m-\u001b[0m\u001b[0;34m-\u001b[0m\u001b[0mversion\u001b[0m\u001b[0;34m\u001b[0m\u001b[0m\n\u001b[0m",
      "\u001b[0;31mNameError\u001b[0m: name 'python' is not defined"
     ]
    }
   ],
   "source": [
    "python --version "
   ]
  },
  {
   "cell_type": "code",
   "execution_count": 13,
   "metadata": {},
   "outputs": [
    {
     "name": "stdout",
     "output_type": "stream",
     "text": [
      "Python 2.7.12\r\n"
     ]
    }
   ],
   "source": [
    "!python --version "
   ]
  },
  {
   "cell_type": "code",
   "execution_count": 14,
   "metadata": {},
   "outputs": [
    {
     "name": "stdout",
     "output_type": "stream",
     "text": [
      "The Python version is 3.5.2\n"
     ]
    }
   ],
   "source": [
    "import sys\n",
    "print(\"The Python version is %s.%s.%s\" % sys.version_info[:3])"
   ]
  },
  {
   "cell_type": "code",
   "execution_count": null,
   "metadata": {
    "collapsed": true
   },
   "outputs": [],
   "source": []
  }
 ],
 "metadata": {
  "kernelspec": {
   "display_name": "Python 3",
   "language": "python",
   "name": "python3"
  },
  "language_info": {
   "codemirror_mode": {
    "name": "ipython",
    "version": 3
   },
   "file_extension": ".py",
   "mimetype": "text/x-python",
   "name": "python",
   "nbconvert_exporter": "python",
   "pygments_lexer": "ipython3",
   "version": "3.5.2"
  }
 },
 "nbformat": 4,
 "nbformat_minor": 1
}
