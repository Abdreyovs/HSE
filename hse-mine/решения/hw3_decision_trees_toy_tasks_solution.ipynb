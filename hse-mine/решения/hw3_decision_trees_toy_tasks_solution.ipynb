{
 "cells": [
  {
   "cell_type": "markdown",
   "metadata": {},
   "source": [
    "<center>\n",
    "<img src=\"../../img/ml_theme.png\">\n",
    "# Дополнительное профессиональное <br> образование НИУ ВШЭ\n",
    "#### Программа \"Практический анализ данных и машинное обучение\"\n",
    "<img src=\"../../img/faculty_logo.jpg\" height=\"240\" width=\"240\">\n",
    "## Автор материала: преподаватель Факультета Компьютерных Наук НИУ ВШЭ <br> Кашницкий Юрий\n",
    "</center>\n",
    "Материал распространяется на условиях лицензии <a href=\"https://opensource.org/licenses/MS-RL\">Ms-RL</a>. Можно использовать в любых целях, кроме коммерческих, но с обязательным упоминанием автора материала."
   ]
  },
  {
   "cell_type": "markdown",
   "metadata": {},
   "source": [
    "# <center>Домашнее задание 3. Построение дерева решений. Решение</center>"
   ]
  },
  {
   "cell_type": "markdown",
   "metadata": {},
   "source": [
    "**Цель задания - \"на пальцах\", с помощью игрушечных задач классификации разобраться в том, как работают деревья решений. Напомню, само по себе дерево решений - довольно слабый алгоритм, но основанные на нем алгоритмы случайного леса и градиентного бустинга - пожалуй, лучшее, что есть на сегодняшний день. Поэтому разобраться в том, как работет дерево решений, полезно.**"
   ]
  },
  {
   "cell_type": "markdown",
   "metadata": {},
   "source": [
    "**Рассмотрим 3 игрушечных задачи бинарной классификации (символ $\\tau$ вместо знака вопроса обозначает неизвестные метки целевого класса тестовых объектов):**\n",
    "<img src='../../img/toy_clf_task1.png'>\n",
    "<img src='../../img/toy_clf_task2.png'>\n",
    "<img src='../../img/toy_clf_task3.png'>"
   ]
  },
  {
   "cell_type": "code",
   "execution_count": 1,
   "metadata": {
    "collapsed": true
   },
   "outputs": [],
   "source": [
    "from __future__ import division, print_function\n",
    "# отключим всякие предупреждения Anaconda\n",
    "import warnings\n",
    "warnings.filterwarnings('ignore')\n",
    "import numpy as np\n",
    "import pandas as pd\n",
    "from sklearn.preprocessing import LabelEncoder\n",
    "import collections"
   ]
  },
  {
   "cell_type": "markdown",
   "metadata": {},
   "source": [
    "# Деревья решений и энтропия"
   ]
  },
  {
   "cell_type": "markdown",
   "metadata": {},
   "source": [
    "## Загрузка данных"
   ]
  },
  {
   "cell_type": "code",
   "execution_count": 2,
   "metadata": {
    "collapsed": true
   },
   "outputs": [],
   "source": [
    "# Создание датафрейма с dummy variables\n",
    "def create_df(dic, feature_list):\n",
    "    out = pd.DataFrame(dic)\n",
    "    out = pd.concat([out, pd.get_dummies(out[feature_list])], axis = 1)\n",
    "    out.drop(feature_list, axis = 1, inplace = True)\n",
    "    return out\n",
    "\n",
    "# Некоторые значения признаков есть в тесте, но нет в трейне и наоборот\n",
    "def intersect_features(train, test):\n",
    "    f = list( set(train.keys()) & set(test.keys()))\n",
    "    return train[f], test[f]"
   ]
  },
  {
   "cell_type": "markdown",
   "metadata": {},
   "source": [
    "### Признаки"
   ]
  },
  {
   "cell_type": "code",
   "execution_count": 3,
   "metadata": {
    "collapsed": true
   },
   "outputs": [],
   "source": [
    "fn_1 = [u'Возраст', u'Доход', u'Внешность', u'Образование'] # знакомства\n",
    "fn_2 = [u'Цвет', u'Тип', u'Производство', u'Повреждения'] # угон\n",
    "fn_3 = [u'Пол', u'Возраст', u'Образование', u'Зарпалата'] # кредит"
   ]
  },
  {
   "cell_type": "markdown",
   "metadata": {},
   "source": [
    "### Служба\tзнакомств"
   ]
  },
  {
   "cell_type": "code",
   "execution_count": 4,
   "metadata": {
    "collapsed": false
   },
   "outputs": [
    {
     "data": {
      "text/html": [
       "<div>\n",
       "<table border=\"1\" class=\"dataframe\">\n",
       "  <thead>\n",
       "    <tr style=\"text-align: right;\">\n",
       "      <th></th>\n",
       "      <th>Составит пару</th>\n",
       "      <th>Возраст_молодой</th>\n",
       "      <th>Возраст_пожилой</th>\n",
       "      <th>Возраст_средний</th>\n",
       "      <th>Доход_высокий</th>\n",
       "      <th>Доход_низкий</th>\n",
       "      <th>Доход_средний</th>\n",
       "      <th>Внешность_отталкивающая</th>\n",
       "      <th>Внешность_приятная</th>\n",
       "      <th>Образование_высшее</th>\n",
       "      <th>Образование_специальное</th>\n",
       "      <th>Образование_среднее</th>\n",
       "    </tr>\n",
       "  </thead>\n",
       "  <tbody>\n",
       "    <tr>\n",
       "      <th>0</th>\n",
       "      <td>0</td>\n",
       "      <td>1</td>\n",
       "      <td>0</td>\n",
       "      <td>0</td>\n",
       "      <td>1</td>\n",
       "      <td>0</td>\n",
       "      <td>0</td>\n",
       "      <td>0</td>\n",
       "      <td>1</td>\n",
       "      <td>0</td>\n",
       "      <td>1</td>\n",
       "      <td>0</td>\n",
       "    </tr>\n",
       "    <tr>\n",
       "      <th>1</th>\n",
       "      <td>0</td>\n",
       "      <td>0</td>\n",
       "      <td>0</td>\n",
       "      <td>1</td>\n",
       "      <td>1</td>\n",
       "      <td>0</td>\n",
       "      <td>0</td>\n",
       "      <td>0</td>\n",
       "      <td>1</td>\n",
       "      <td>1</td>\n",
       "      <td>0</td>\n",
       "      <td>0</td>\n",
       "    </tr>\n",
       "    <tr>\n",
       "      <th>2</th>\n",
       "      <td>0</td>\n",
       "      <td>0</td>\n",
       "      <td>1</td>\n",
       "      <td>0</td>\n",
       "      <td>1</td>\n",
       "      <td>0</td>\n",
       "      <td>0</td>\n",
       "      <td>0</td>\n",
       "      <td>1</td>\n",
       "      <td>1</td>\n",
       "      <td>0</td>\n",
       "      <td>0</td>\n",
       "    </tr>\n",
       "    <tr>\n",
       "      <th>3</th>\n",
       "      <td>0</td>\n",
       "      <td>0</td>\n",
       "      <td>0</td>\n",
       "      <td>1</td>\n",
       "      <td>0</td>\n",
       "      <td>0</td>\n",
       "      <td>1</td>\n",
       "      <td>0</td>\n",
       "      <td>1</td>\n",
       "      <td>1</td>\n",
       "      <td>0</td>\n",
       "      <td>0</td>\n",
       "    </tr>\n",
       "    <tr>\n",
       "      <th>4</th>\n",
       "      <td>1</td>\n",
       "      <td>1</td>\n",
       "      <td>0</td>\n",
       "      <td>0</td>\n",
       "      <td>0</td>\n",
       "      <td>1</td>\n",
       "      <td>0</td>\n",
       "      <td>0</td>\n",
       "      <td>1</td>\n",
       "      <td>0</td>\n",
       "      <td>1</td>\n",
       "      <td>0</td>\n",
       "    </tr>\n",
       "    <tr>\n",
       "      <th>5</th>\n",
       "      <td>1</td>\n",
       "      <td>0</td>\n",
       "      <td>0</td>\n",
       "      <td>1</td>\n",
       "      <td>1</td>\n",
       "      <td>0</td>\n",
       "      <td>0</td>\n",
       "      <td>1</td>\n",
       "      <td>0</td>\n",
       "      <td>1</td>\n",
       "      <td>0</td>\n",
       "      <td>0</td>\n",
       "    </tr>\n",
       "    <tr>\n",
       "      <th>6</th>\n",
       "      <td>1</td>\n",
       "      <td>0</td>\n",
       "      <td>1</td>\n",
       "      <td>0</td>\n",
       "      <td>0</td>\n",
       "      <td>0</td>\n",
       "      <td>1</td>\n",
       "      <td>0</td>\n",
       "      <td>1</td>\n",
       "      <td>0</td>\n",
       "      <td>0</td>\n",
       "      <td>1</td>\n",
       "    </tr>\n",
       "  </tbody>\n",
       "</table>\n",
       "</div>"
      ],
      "text/plain": [
       "   Составит пару  Возраст_молодой  Возраст_пожилой  Возраст_средний  \\\n",
       "0              0                1                0                0   \n",
       "1              0                0                0                1   \n",
       "2              0                0                1                0   \n",
       "3              0                0                0                1   \n",
       "4              1                1                0                0   \n",
       "5              1                0                0                1   \n",
       "6              1                0                1                0   \n",
       "\n",
       "   Доход_высокий  Доход_низкий  Доход_средний  Внешность_отталкивающая  \\\n",
       "0              1             0              0                        0   \n",
       "1              1             0              0                        0   \n",
       "2              1             0              0                        0   \n",
       "3              0             0              1                        0   \n",
       "4              0             1              0                        0   \n",
       "5              1             0              0                        1   \n",
       "6              0             0              1                        0   \n",
       "\n",
       "   Внешность_приятная  Образование_высшее  Образование_специальное  \\\n",
       "0                   1                   0                        1   \n",
       "1                   1                   1                        0   \n",
       "2                   1                   1                        0   \n",
       "3                   1                   1                        0   \n",
       "4                   1                   0                        1   \n",
       "5                   0                   1                        0   \n",
       "6                   1                   0                        0   \n",
       "\n",
       "   Образование_среднее  \n",
       "0                    0  \n",
       "1                    0  \n",
       "2                    0  \n",
       "3                    0  \n",
       "4                    0  \n",
       "5                    0  \n",
       "6                    1  "
      ]
     },
     "execution_count": 4,
     "metadata": {},
     "output_type": "execute_result"
    }
   ],
   "source": [
    "# обучение\n",
    "\n",
    "df1_train = {}\n",
    "df1_train[u'Возраст'] = [u'молодой', u'средний', u'пожилой', u'средний', u'молодой', u'средний', u'пожилой'] \n",
    "df1_train[u'Доход'] = [ u'высокий', u'высокий', u'высокий', u'средний', u'низкий', u'высокий', u'средний']\n",
    "df1_train[u'Внешность'] = [ u'приятная', u'приятная', u'приятная', u'приятная', u'приятная', u'отталкивающая', u'приятная']\n",
    "df1_train[u'Образование'] = [ u'специальное', u'высшее', u'высшее', u'высшее', u'специальное', u'высшее', u'среднее']\n",
    "df1_train[u'Составит пару'] = LabelEncoder().fit_transform(['+','+','+','+','-','-','-'])\n",
    "\n",
    "df1_train = create_df(df1_train, fn_1)\n",
    "df1_train"
   ]
  },
  {
   "cell_type": "code",
   "execution_count": 5,
   "metadata": {
    "collapsed": false
   },
   "outputs": [
    {
     "data": {
      "text/html": [
       "<div>\n",
       "<table border=\"1\" class=\"dataframe\">\n",
       "  <thead>\n",
       "    <tr style=\"text-align: right;\">\n",
       "      <th></th>\n",
       "      <th>Возраст_молодой</th>\n",
       "      <th>Возраст_пожилой</th>\n",
       "      <th>Возраст_средний</th>\n",
       "      <th>Доход_высокий</th>\n",
       "      <th>Доход_низкий</th>\n",
       "      <th>Доход_средний</th>\n",
       "      <th>Внешность_отталкивающая</th>\n",
       "      <th>Внешность_приятная</th>\n",
       "      <th>Образование_высшее</th>\n",
       "      <th>Образование_специальное</th>\n",
       "    </tr>\n",
       "  </thead>\n",
       "  <tbody>\n",
       "    <tr>\n",
       "      <th>0</th>\n",
       "      <td>1</td>\n",
       "      <td>0</td>\n",
       "      <td>0</td>\n",
       "      <td>0</td>\n",
       "      <td>0</td>\n",
       "      <td>1</td>\n",
       "      <td>0</td>\n",
       "      <td>1</td>\n",
       "      <td>1</td>\n",
       "      <td>0</td>\n",
       "    </tr>\n",
       "    <tr>\n",
       "      <th>1</th>\n",
       "      <td>0</td>\n",
       "      <td>0</td>\n",
       "      <td>1</td>\n",
       "      <td>1</td>\n",
       "      <td>0</td>\n",
       "      <td>0</td>\n",
       "      <td>1</td>\n",
       "      <td>0</td>\n",
       "      <td>0</td>\n",
       "      <td>1</td>\n",
       "    </tr>\n",
       "    <tr>\n",
       "      <th>2</th>\n",
       "      <td>0</td>\n",
       "      <td>1</td>\n",
       "      <td>0</td>\n",
       "      <td>0</td>\n",
       "      <td>1</td>\n",
       "      <td>0</td>\n",
       "      <td>0</td>\n",
       "      <td>1</td>\n",
       "      <td>1</td>\n",
       "      <td>0</td>\n",
       "    </tr>\n",
       "  </tbody>\n",
       "</table>\n",
       "</div>"
      ],
      "text/plain": [
       "   Возраст_молодой  Возраст_пожилой  Возраст_средний  Доход_высокий  \\\n",
       "0                1                0                0              0   \n",
       "1                0                0                1              1   \n",
       "2                0                1                0              0   \n",
       "\n",
       "   Доход_низкий  Доход_средний  Внешность_отталкивающая  Внешность_приятная  \\\n",
       "0             0              1                        0                   1   \n",
       "1             0              0                        1                   0   \n",
       "2             1              0                        0                   1   \n",
       "\n",
       "   Образование_высшее  Образование_специальное  \n",
       "0                   1                        0  \n",
       "1                   0                        1  \n",
       "2                   1                        0  "
      ]
     },
     "execution_count": 5,
     "metadata": {},
     "output_type": "execute_result"
    }
   ],
   "source": [
    "# тест\n",
    "\n",
    "df1_test = {}\n",
    "df1_test[u'Возраст'] = [u'молодой', u'средний', u'пожилой'] \n",
    "df1_test[u'Доход'] = [u'средний', u'высокий', u'низкий']\n",
    "df1_test[u'Внешность'] = [u'приятная', u'отталкивающая', u'приятная']\n",
    "df1_test[u'Образование'] = [u'высшее', u'специальное', u'высшее']\n",
    "df1_test = create_df(df1_test, fn_1)\n",
    "df1_test"
   ]
  },
  {
   "cell_type": "code",
   "execution_count": 6,
   "metadata": {
    "collapsed": false
   },
   "outputs": [
    {
     "data": {
      "text/html": [
       "<div>\n",
       "<table border=\"1\" class=\"dataframe\">\n",
       "  <thead>\n",
       "    <tr style=\"text-align: right;\">\n",
       "      <th></th>\n",
       "      <th>Возраст_средний</th>\n",
       "      <th>Возраст_молодой</th>\n",
       "      <th>Доход_высокий</th>\n",
       "      <th>Образование_специальное</th>\n",
       "      <th>Внешность_приятная</th>\n",
       "      <th>Доход_низкий</th>\n",
       "      <th>Возраст_пожилой</th>\n",
       "      <th>Внешность_отталкивающая</th>\n",
       "      <th>Образование_высшее</th>\n",
       "      <th>Доход_средний</th>\n",
       "    </tr>\n",
       "  </thead>\n",
       "  <tbody>\n",
       "    <tr>\n",
       "      <th>0</th>\n",
       "      <td>0</td>\n",
       "      <td>1</td>\n",
       "      <td>1</td>\n",
       "      <td>1</td>\n",
       "      <td>1</td>\n",
       "      <td>0</td>\n",
       "      <td>0</td>\n",
       "      <td>0</td>\n",
       "      <td>0</td>\n",
       "      <td>0</td>\n",
       "    </tr>\n",
       "    <tr>\n",
       "      <th>1</th>\n",
       "      <td>1</td>\n",
       "      <td>0</td>\n",
       "      <td>1</td>\n",
       "      <td>0</td>\n",
       "      <td>1</td>\n",
       "      <td>0</td>\n",
       "      <td>0</td>\n",
       "      <td>0</td>\n",
       "      <td>1</td>\n",
       "      <td>0</td>\n",
       "    </tr>\n",
       "    <tr>\n",
       "      <th>2</th>\n",
       "      <td>0</td>\n",
       "      <td>0</td>\n",
       "      <td>1</td>\n",
       "      <td>0</td>\n",
       "      <td>1</td>\n",
       "      <td>0</td>\n",
       "      <td>1</td>\n",
       "      <td>0</td>\n",
       "      <td>1</td>\n",
       "      <td>0</td>\n",
       "    </tr>\n",
       "    <tr>\n",
       "      <th>3</th>\n",
       "      <td>1</td>\n",
       "      <td>0</td>\n",
       "      <td>0</td>\n",
       "      <td>0</td>\n",
       "      <td>1</td>\n",
       "      <td>0</td>\n",
       "      <td>0</td>\n",
       "      <td>0</td>\n",
       "      <td>1</td>\n",
       "      <td>1</td>\n",
       "    </tr>\n",
       "    <tr>\n",
       "      <th>4</th>\n",
       "      <td>0</td>\n",
       "      <td>1</td>\n",
       "      <td>0</td>\n",
       "      <td>1</td>\n",
       "      <td>1</td>\n",
       "      <td>1</td>\n",
       "      <td>0</td>\n",
       "      <td>0</td>\n",
       "      <td>0</td>\n",
       "      <td>0</td>\n",
       "    </tr>\n",
       "    <tr>\n",
       "      <th>5</th>\n",
       "      <td>1</td>\n",
       "      <td>0</td>\n",
       "      <td>1</td>\n",
       "      <td>0</td>\n",
       "      <td>0</td>\n",
       "      <td>0</td>\n",
       "      <td>0</td>\n",
       "      <td>1</td>\n",
       "      <td>1</td>\n",
       "      <td>0</td>\n",
       "    </tr>\n",
       "    <tr>\n",
       "      <th>6</th>\n",
       "      <td>0</td>\n",
       "      <td>0</td>\n",
       "      <td>0</td>\n",
       "      <td>0</td>\n",
       "      <td>1</td>\n",
       "      <td>0</td>\n",
       "      <td>1</td>\n",
       "      <td>0</td>\n",
       "      <td>0</td>\n",
       "      <td>1</td>\n",
       "    </tr>\n",
       "  </tbody>\n",
       "</table>\n",
       "</div>"
      ],
      "text/plain": [
       "   Возраст_средний  Возраст_молодой  Доход_высокий  Образование_специальное  \\\n",
       "0                0                1              1                        1   \n",
       "1                1                0              1                        0   \n",
       "2                0                0              1                        0   \n",
       "3                1                0              0                        0   \n",
       "4                0                1              0                        1   \n",
       "5                1                0              1                        0   \n",
       "6                0                0              0                        0   \n",
       "\n",
       "   Внешность_приятная  Доход_низкий  Возраст_пожилой  Внешность_отталкивающая  \\\n",
       "0                   1             0                0                        0   \n",
       "1                   1             0                0                        0   \n",
       "2                   1             0                1                        0   \n",
       "3                   1             0                0                        0   \n",
       "4                   1             1                0                        0   \n",
       "5                   0             0                0                        1   \n",
       "6                   1             0                1                        0   \n",
       "\n",
       "   Образование_высшее  Доход_средний  \n",
       "0                   0              0  \n",
       "1                   1              0  \n",
       "2                   1              0  \n",
       "3                   1              1  \n",
       "4                   0              0  \n",
       "5                   1              0  \n",
       "6                   0              1  "
      ]
     },
     "execution_count": 6,
     "metadata": {},
     "output_type": "execute_result"
    }
   ],
   "source": [
    "# Некоторые значения признаков есть в тесте, но нет в трейне и наоборот\n",
    "y_1 = df1_train[u'Составит пару']\n",
    "df1_train, df1_test = intersect_features(train = df1_train, test = df1_test)\n",
    "df1_train"
   ]
  },
  {
   "cell_type": "code",
   "execution_count": 7,
   "metadata": {
    "collapsed": false
   },
   "outputs": [
    {
     "data": {
      "text/html": [
       "<div>\n",
       "<table border=\"1\" class=\"dataframe\">\n",
       "  <thead>\n",
       "    <tr style=\"text-align: right;\">\n",
       "      <th></th>\n",
       "      <th>Возраст_средний</th>\n",
       "      <th>Возраст_молодой</th>\n",
       "      <th>Доход_высокий</th>\n",
       "      <th>Образование_специальное</th>\n",
       "      <th>Внешность_приятная</th>\n",
       "      <th>Доход_низкий</th>\n",
       "      <th>Возраст_пожилой</th>\n",
       "      <th>Внешность_отталкивающая</th>\n",
       "      <th>Образование_высшее</th>\n",
       "      <th>Доход_средний</th>\n",
       "    </tr>\n",
       "  </thead>\n",
       "  <tbody>\n",
       "    <tr>\n",
       "      <th>0</th>\n",
       "      <td>0</td>\n",
       "      <td>1</td>\n",
       "      <td>0</td>\n",
       "      <td>0</td>\n",
       "      <td>1</td>\n",
       "      <td>0</td>\n",
       "      <td>0</td>\n",
       "      <td>0</td>\n",
       "      <td>1</td>\n",
       "      <td>1</td>\n",
       "    </tr>\n",
       "    <tr>\n",
       "      <th>1</th>\n",
       "      <td>1</td>\n",
       "      <td>0</td>\n",
       "      <td>1</td>\n",
       "      <td>1</td>\n",
       "      <td>0</td>\n",
       "      <td>0</td>\n",
       "      <td>0</td>\n",
       "      <td>1</td>\n",
       "      <td>0</td>\n",
       "      <td>0</td>\n",
       "    </tr>\n",
       "    <tr>\n",
       "      <th>2</th>\n",
       "      <td>0</td>\n",
       "      <td>0</td>\n",
       "      <td>0</td>\n",
       "      <td>0</td>\n",
       "      <td>1</td>\n",
       "      <td>1</td>\n",
       "      <td>1</td>\n",
       "      <td>0</td>\n",
       "      <td>1</td>\n",
       "      <td>0</td>\n",
       "    </tr>\n",
       "  </tbody>\n",
       "</table>\n",
       "</div>"
      ],
      "text/plain": [
       "   Возраст_средний  Возраст_молодой  Доход_высокий  Образование_специальное  \\\n",
       "0                0                1              0                        0   \n",
       "1                1                0              1                        1   \n",
       "2                0                0              0                        0   \n",
       "\n",
       "   Внешность_приятная  Доход_низкий  Возраст_пожилой  Внешность_отталкивающая  \\\n",
       "0                   1             0                0                        0   \n",
       "1                   0             0                0                        1   \n",
       "2                   1             1                1                        0   \n",
       "\n",
       "   Образование_высшее  Доход_средний  \n",
       "0                   1              1  \n",
       "1                   0              0  \n",
       "2                   1              0  "
      ]
     },
     "execution_count": 7,
     "metadata": {},
     "output_type": "execute_result"
    }
   ],
   "source": [
    "df1_test"
   ]
  },
  {
   "cell_type": "markdown",
   "metadata": {},
   "source": [
    "### Автоугон"
   ]
  },
  {
   "cell_type": "code",
   "execution_count": 8,
   "metadata": {
    "collapsed": false,
    "scrolled": true
   },
   "outputs": [
    {
     "data": {
      "text/html": [
       "<div>\n",
       "<table border=\"1\" class=\"dataframe\">\n",
       "  <thead>\n",
       "    <tr style=\"text-align: right;\">\n",
       "      <th></th>\n",
       "      <th>Угоняют</th>\n",
       "      <th>Цвет_Желтый</th>\n",
       "      <th>Цвет_Красный</th>\n",
       "      <th>Тип_Джип</th>\n",
       "      <th>Тип_Спортивный</th>\n",
       "      <th>Производство_США</th>\n",
       "      <th>Производство_Япония</th>\n",
       "      <th>Повреждения_есть</th>\n",
       "      <th>Повреждения_нет</th>\n",
       "    </tr>\n",
       "  </thead>\n",
       "  <tbody>\n",
       "    <tr>\n",
       "      <th>0</th>\n",
       "      <td>0</td>\n",
       "      <td>0</td>\n",
       "      <td>1</td>\n",
       "      <td>0</td>\n",
       "      <td>1</td>\n",
       "      <td>1</td>\n",
       "      <td>0</td>\n",
       "      <td>0</td>\n",
       "      <td>1</td>\n",
       "    </tr>\n",
       "    <tr>\n",
       "      <th>1</th>\n",
       "      <td>0</td>\n",
       "      <td>1</td>\n",
       "      <td>0</td>\n",
       "      <td>0</td>\n",
       "      <td>1</td>\n",
       "      <td>0</td>\n",
       "      <td>1</td>\n",
       "      <td>0</td>\n",
       "      <td>1</td>\n",
       "    </tr>\n",
       "    <tr>\n",
       "      <th>2</th>\n",
       "      <td>0</td>\n",
       "      <td>1</td>\n",
       "      <td>0</td>\n",
       "      <td>1</td>\n",
       "      <td>0</td>\n",
       "      <td>0</td>\n",
       "      <td>1</td>\n",
       "      <td>0</td>\n",
       "      <td>1</td>\n",
       "    </tr>\n",
       "    <tr>\n",
       "      <th>3</th>\n",
       "      <td>0</td>\n",
       "      <td>0</td>\n",
       "      <td>1</td>\n",
       "      <td>0</td>\n",
       "      <td>1</td>\n",
       "      <td>0</td>\n",
       "      <td>1</td>\n",
       "      <td>1</td>\n",
       "      <td>0</td>\n",
       "    </tr>\n",
       "    <tr>\n",
       "      <th>4</th>\n",
       "      <td>1</td>\n",
       "      <td>1</td>\n",
       "      <td>0</td>\n",
       "      <td>0</td>\n",
       "      <td>1</td>\n",
       "      <td>1</td>\n",
       "      <td>0</td>\n",
       "      <td>1</td>\n",
       "      <td>0</td>\n",
       "    </tr>\n",
       "    <tr>\n",
       "      <th>5</th>\n",
       "      <td>1</td>\n",
       "      <td>1</td>\n",
       "      <td>0</td>\n",
       "      <td>1</td>\n",
       "      <td>0</td>\n",
       "      <td>1</td>\n",
       "      <td>0</td>\n",
       "      <td>0</td>\n",
       "      <td>1</td>\n",
       "    </tr>\n",
       "    <tr>\n",
       "      <th>6</th>\n",
       "      <td>1</td>\n",
       "      <td>0</td>\n",
       "      <td>1</td>\n",
       "      <td>1</td>\n",
       "      <td>0</td>\n",
       "      <td>0</td>\n",
       "      <td>1</td>\n",
       "      <td>1</td>\n",
       "      <td>0</td>\n",
       "    </tr>\n",
       "  </tbody>\n",
       "</table>\n",
       "</div>"
      ],
      "text/plain": [
       "   Угоняют  Цвет_Желтый  Цвет_Красный  Тип_Джип  Тип_Спортивный  \\\n",
       "0        0            0             1         0               1   \n",
       "1        0            1             0         0               1   \n",
       "2        0            1             0         1               0   \n",
       "3        0            0             1         0               1   \n",
       "4        1            1             0         0               1   \n",
       "5        1            1             0         1               0   \n",
       "6        1            0             1         1               0   \n",
       "\n",
       "   Производство_США  Производство_Япония  Повреждения_есть  Повреждения_нет  \n",
       "0                 1                    0                 0                1  \n",
       "1                 0                    1                 0                1  \n",
       "2                 0                    1                 0                1  \n",
       "3                 0                    1                 1                0  \n",
       "4                 1                    0                 1                0  \n",
       "5                 1                    0                 0                1  \n",
       "6                 0                    1                 1                0  "
      ]
     },
     "execution_count": 8,
     "metadata": {},
     "output_type": "execute_result"
    }
   ],
   "source": [
    "# обучение\n",
    "\n",
    "df2_train = {}\n",
    "df2_train[u'Цвет'] = [u'Красный', u'Желтый', u'Желтый', u'Красный', u'Желтый', u'Желтый', u'Красный'] \n",
    "df2_train[u'Тип'] = [u'Спортивный', u'Спортивный', u'Джип', u'Спортивный', u'Спортивный', u'Джип', u'Джип']\n",
    "df2_train[u'Производство'] = [u'США', u'Япония', u'Япония', u'Япония', u'США', u'США', u'Япония']\n",
    "df2_train[u'Повреждения'] = [u'нет', u'нет', u'нет', u'есть', u'есть', u'нет', u'есть']\n",
    "df2_train[u'Угоняют'] = LabelEncoder().fit_transform(['+','+','+','+','-','-','-'])\n",
    "\n",
    "df2_train = create_df(df2_train, fn_2)\n",
    "df2_train"
   ]
  },
  {
   "cell_type": "code",
   "execution_count": 9,
   "metadata": {
    "collapsed": false
   },
   "outputs": [
    {
     "data": {
      "text/html": [
       "<div>\n",
       "<table border=\"1\" class=\"dataframe\">\n",
       "  <thead>\n",
       "    <tr style=\"text-align: right;\">\n",
       "      <th></th>\n",
       "      <th>Цвет_Зеленый</th>\n",
       "      <th>Цвет_Красный</th>\n",
       "      <th>Цвет_Черный</th>\n",
       "      <th>Тип_Джип</th>\n",
       "      <th>Тип_Спортивный</th>\n",
       "      <th>Производство_Германия</th>\n",
       "      <th>Производство_США</th>\n",
       "      <th>Производство_Япония</th>\n",
       "      <th>Повреждения_нет</th>\n",
       "    </tr>\n",
       "  </thead>\n",
       "  <tbody>\n",
       "    <tr>\n",
       "      <th>0</th>\n",
       "      <td>1</td>\n",
       "      <td>0</td>\n",
       "      <td>0</td>\n",
       "      <td>0</td>\n",
       "      <td>1</td>\n",
       "      <td>0</td>\n",
       "      <td>1</td>\n",
       "      <td>0</td>\n",
       "      <td>1</td>\n",
       "    </tr>\n",
       "    <tr>\n",
       "      <th>1</th>\n",
       "      <td>0</td>\n",
       "      <td>1</td>\n",
       "      <td>0</td>\n",
       "      <td>0</td>\n",
       "      <td>1</td>\n",
       "      <td>1</td>\n",
       "      <td>0</td>\n",
       "      <td>0</td>\n",
       "      <td>1</td>\n",
       "    </tr>\n",
       "    <tr>\n",
       "      <th>2</th>\n",
       "      <td>0</td>\n",
       "      <td>0</td>\n",
       "      <td>1</td>\n",
       "      <td>1</td>\n",
       "      <td>0</td>\n",
       "      <td>0</td>\n",
       "      <td>0</td>\n",
       "      <td>1</td>\n",
       "      <td>1</td>\n",
       "    </tr>\n",
       "  </tbody>\n",
       "</table>\n",
       "</div>"
      ],
      "text/plain": [
       "   Цвет_Зеленый  Цвет_Красный  Цвет_Черный  Тип_Джип  Тип_Спортивный  \\\n",
       "0             1             0            0         0               1   \n",
       "1             0             1            0         0               1   \n",
       "2             0             0            1         1               0   \n",
       "\n",
       "   Производство_Германия  Производство_США  Производство_Япония  \\\n",
       "0                      0                 1                    0   \n",
       "1                      1                 0                    0   \n",
       "2                      0                 0                    1   \n",
       "\n",
       "   Повреждения_нет  \n",
       "0                1  \n",
       "1                1  \n",
       "2                1  "
      ]
     },
     "execution_count": 9,
     "metadata": {},
     "output_type": "execute_result"
    }
   ],
   "source": [
    "# тест\n",
    "\n",
    "df2_test = {}\n",
    "df2_test[u'Цвет'] = [u'Зеленый', u'Красный', u'Черный'] \n",
    "df2_test[u'Тип'] = [u'Спортивный', u'Спортивный', u'Джип']\n",
    "df2_test[u'Производство'] = [u'США', u'Германия', u'Япония']\n",
    "df2_test[u'Повреждения'] = [u'нет',u'нет',u'нет']\n",
    "\n",
    "df2_test = create_df(df2_test, fn_2)\n",
    "df2_test"
   ]
  },
  {
   "cell_type": "code",
   "execution_count": 10,
   "metadata": {
    "collapsed": false,
    "scrolled": true
   },
   "outputs": [
    {
     "data": {
      "text/html": [
       "<div>\n",
       "<table border=\"1\" class=\"dataframe\">\n",
       "  <thead>\n",
       "    <tr style=\"text-align: right;\">\n",
       "      <th></th>\n",
       "      <th>Производство_США</th>\n",
       "      <th>Производство_Япония</th>\n",
       "      <th>Цвет_Красный</th>\n",
       "      <th>Тип_Спортивный</th>\n",
       "      <th>Тип_Джип</th>\n",
       "      <th>Повреждения_нет</th>\n",
       "    </tr>\n",
       "  </thead>\n",
       "  <tbody>\n",
       "    <tr>\n",
       "      <th>0</th>\n",
       "      <td>1</td>\n",
       "      <td>0</td>\n",
       "      <td>1</td>\n",
       "      <td>1</td>\n",
       "      <td>0</td>\n",
       "      <td>1</td>\n",
       "    </tr>\n",
       "    <tr>\n",
       "      <th>1</th>\n",
       "      <td>0</td>\n",
       "      <td>1</td>\n",
       "      <td>0</td>\n",
       "      <td>1</td>\n",
       "      <td>0</td>\n",
       "      <td>1</td>\n",
       "    </tr>\n",
       "    <tr>\n",
       "      <th>2</th>\n",
       "      <td>0</td>\n",
       "      <td>1</td>\n",
       "      <td>0</td>\n",
       "      <td>0</td>\n",
       "      <td>1</td>\n",
       "      <td>1</td>\n",
       "    </tr>\n",
       "    <tr>\n",
       "      <th>3</th>\n",
       "      <td>0</td>\n",
       "      <td>1</td>\n",
       "      <td>1</td>\n",
       "      <td>1</td>\n",
       "      <td>0</td>\n",
       "      <td>0</td>\n",
       "    </tr>\n",
       "    <tr>\n",
       "      <th>4</th>\n",
       "      <td>1</td>\n",
       "      <td>0</td>\n",
       "      <td>0</td>\n",
       "      <td>1</td>\n",
       "      <td>0</td>\n",
       "      <td>0</td>\n",
       "    </tr>\n",
       "    <tr>\n",
       "      <th>5</th>\n",
       "      <td>1</td>\n",
       "      <td>0</td>\n",
       "      <td>0</td>\n",
       "      <td>0</td>\n",
       "      <td>1</td>\n",
       "      <td>1</td>\n",
       "    </tr>\n",
       "    <tr>\n",
       "      <th>6</th>\n",
       "      <td>0</td>\n",
       "      <td>1</td>\n",
       "      <td>1</td>\n",
       "      <td>0</td>\n",
       "      <td>1</td>\n",
       "      <td>0</td>\n",
       "    </tr>\n",
       "  </tbody>\n",
       "</table>\n",
       "</div>"
      ],
      "text/plain": [
       "   Производство_США  Производство_Япония  Цвет_Красный  Тип_Спортивный  \\\n",
       "0                 1                    0             1               1   \n",
       "1                 0                    1             0               1   \n",
       "2                 0                    1             0               0   \n",
       "3                 0                    1             1               1   \n",
       "4                 1                    0             0               1   \n",
       "5                 1                    0             0               0   \n",
       "6                 0                    1             1               0   \n",
       "\n",
       "   Тип_Джип  Повреждения_нет  \n",
       "0         0                1  \n",
       "1         0                1  \n",
       "2         1                1  \n",
       "3         0                0  \n",
       "4         0                0  \n",
       "5         1                1  \n",
       "6         1                0  "
      ]
     },
     "execution_count": 10,
     "metadata": {},
     "output_type": "execute_result"
    }
   ],
   "source": [
    "# Некоторые значения признаков есть в тесте, но нет в трейне и наоборот\n",
    "y_2 = df2_train[u'Угоняют']\n",
    "df2_train, df2_test = intersect_features(train = df2_train, test = df2_test)\n",
    "df2_train"
   ]
  },
  {
   "cell_type": "code",
   "execution_count": 11,
   "metadata": {
    "collapsed": false
   },
   "outputs": [
    {
     "data": {
      "text/html": [
       "<div>\n",
       "<table border=\"1\" class=\"dataframe\">\n",
       "  <thead>\n",
       "    <tr style=\"text-align: right;\">\n",
       "      <th></th>\n",
       "      <th>Производство_США</th>\n",
       "      <th>Производство_Япония</th>\n",
       "      <th>Цвет_Красный</th>\n",
       "      <th>Тип_Спортивный</th>\n",
       "      <th>Тип_Джип</th>\n",
       "      <th>Повреждения_нет</th>\n",
       "    </tr>\n",
       "  </thead>\n",
       "  <tbody>\n",
       "    <tr>\n",
       "      <th>0</th>\n",
       "      <td>1</td>\n",
       "      <td>0</td>\n",
       "      <td>0</td>\n",
       "      <td>1</td>\n",
       "      <td>0</td>\n",
       "      <td>1</td>\n",
       "    </tr>\n",
       "    <tr>\n",
       "      <th>1</th>\n",
       "      <td>0</td>\n",
       "      <td>0</td>\n",
       "      <td>1</td>\n",
       "      <td>1</td>\n",
       "      <td>0</td>\n",
       "      <td>1</td>\n",
       "    </tr>\n",
       "    <tr>\n",
       "      <th>2</th>\n",
       "      <td>0</td>\n",
       "      <td>1</td>\n",
       "      <td>0</td>\n",
       "      <td>0</td>\n",
       "      <td>1</td>\n",
       "      <td>1</td>\n",
       "    </tr>\n",
       "  </tbody>\n",
       "</table>\n",
       "</div>"
      ],
      "text/plain": [
       "   Производство_США  Производство_Япония  Цвет_Красный  Тип_Спортивный  \\\n",
       "0                 1                    0             0               1   \n",
       "1                 0                    0             1               1   \n",
       "2                 0                    1             0               0   \n",
       "\n",
       "   Тип_Джип  Повреждения_нет  \n",
       "0         0                1  \n",
       "1         0                1  \n",
       "2         1                1  "
      ]
     },
     "execution_count": 11,
     "metadata": {},
     "output_type": "execute_result"
    }
   ],
   "source": [
    "df2_test"
   ]
  },
  {
   "cell_type": "markdown",
   "metadata": {},
   "source": [
    "### Выдача кредита"
   ]
  },
  {
   "cell_type": "code",
   "execution_count": 12,
   "metadata": {
    "collapsed": false
   },
   "outputs": [
    {
     "data": {
      "text/html": [
       "<div>\n",
       "<table border=\"1\" class=\"dataframe\">\n",
       "  <thead>\n",
       "    <tr style=\"text-align: right;\">\n",
       "      <th></th>\n",
       "      <th>Выдать кредит</th>\n",
       "      <th>Возраст_молодой</th>\n",
       "      <th>Возраст_пожилой</th>\n",
       "      <th>Возраст_средний</th>\n",
       "      <th>Образование_высшее</th>\n",
       "      <th>Образование_специальное</th>\n",
       "      <th>Образование_среднее</th>\n",
       "      <th>Зарпалата_высокая</th>\n",
       "      <th>Зарпалата_низкая</th>\n",
       "      <th>Зарпалата_средняя</th>\n",
       "      <th>Пол</th>\n",
       "    </tr>\n",
       "  </thead>\n",
       "  <tbody>\n",
       "    <tr>\n",
       "      <th>0</th>\n",
       "      <td>0</td>\n",
       "      <td>1</td>\n",
       "      <td>0</td>\n",
       "      <td>0</td>\n",
       "      <td>1</td>\n",
       "      <td>0</td>\n",
       "      <td>0</td>\n",
       "      <td>1</td>\n",
       "      <td>0</td>\n",
       "      <td>0</td>\n",
       "      <td>1</td>\n",
       "    </tr>\n",
       "    <tr>\n",
       "      <th>1</th>\n",
       "      <td>0</td>\n",
       "      <td>0</td>\n",
       "      <td>0</td>\n",
       "      <td>1</td>\n",
       "      <td>0</td>\n",
       "      <td>1</td>\n",
       "      <td>0</td>\n",
       "      <td>1</td>\n",
       "      <td>0</td>\n",
       "      <td>0</td>\n",
       "      <td>0</td>\n",
       "    </tr>\n",
       "    <tr>\n",
       "      <th>2</th>\n",
       "      <td>0</td>\n",
       "      <td>0</td>\n",
       "      <td>0</td>\n",
       "      <td>1</td>\n",
       "      <td>1</td>\n",
       "      <td>0</td>\n",
       "      <td>0</td>\n",
       "      <td>0</td>\n",
       "      <td>0</td>\n",
       "      <td>1</td>\n",
       "      <td>0</td>\n",
       "    </tr>\n",
       "    <tr>\n",
       "      <th>3</th>\n",
       "      <td>0</td>\n",
       "      <td>0</td>\n",
       "      <td>1</td>\n",
       "      <td>0</td>\n",
       "      <td>1</td>\n",
       "      <td>0</td>\n",
       "      <td>0</td>\n",
       "      <td>1</td>\n",
       "      <td>0</td>\n",
       "      <td>0</td>\n",
       "      <td>1</td>\n",
       "    </tr>\n",
       "    <tr>\n",
       "      <th>4</th>\n",
       "      <td>1</td>\n",
       "      <td>1</td>\n",
       "      <td>0</td>\n",
       "      <td>0</td>\n",
       "      <td>1</td>\n",
       "      <td>0</td>\n",
       "      <td>0</td>\n",
       "      <td>0</td>\n",
       "      <td>1</td>\n",
       "      <td>0</td>\n",
       "      <td>1</td>\n",
       "    </tr>\n",
       "    <tr>\n",
       "      <th>5</th>\n",
       "      <td>1</td>\n",
       "      <td>0</td>\n",
       "      <td>0</td>\n",
       "      <td>1</td>\n",
       "      <td>0</td>\n",
       "      <td>0</td>\n",
       "      <td>1</td>\n",
       "      <td>0</td>\n",
       "      <td>0</td>\n",
       "      <td>1</td>\n",
       "      <td>0</td>\n",
       "    </tr>\n",
       "    <tr>\n",
       "      <th>6</th>\n",
       "      <td>1</td>\n",
       "      <td>0</td>\n",
       "      <td>1</td>\n",
       "      <td>0</td>\n",
       "      <td>0</td>\n",
       "      <td>1</td>\n",
       "      <td>0</td>\n",
       "      <td>0</td>\n",
       "      <td>0</td>\n",
       "      <td>1</td>\n",
       "      <td>0</td>\n",
       "    </tr>\n",
       "  </tbody>\n",
       "</table>\n",
       "</div>"
      ],
      "text/plain": [
       "   Выдать кредит  Возраст_молодой  Возраст_пожилой  Возраст_средний  \\\n",
       "0              0                1                0                0   \n",
       "1              0                0                0                1   \n",
       "2              0                0                0                1   \n",
       "3              0                0                1                0   \n",
       "4              1                1                0                0   \n",
       "5              1                0                0                1   \n",
       "6              1                0                1                0   \n",
       "\n",
       "   Образование_высшее  Образование_специальное  Образование_среднее  \\\n",
       "0                   1                        0                    0   \n",
       "1                   0                        1                    0   \n",
       "2                   1                        0                    0   \n",
       "3                   1                        0                    0   \n",
       "4                   1                        0                    0   \n",
       "5                   0                        0                    1   \n",
       "6                   0                        1                    0   \n",
       "\n",
       "   Зарпалата_высокая  Зарпалата_низкая  Зарпалата_средняя  Пол  \n",
       "0                  1                 0                  0    1  \n",
       "1                  1                 0                  0    0  \n",
       "2                  0                 0                  1    0  \n",
       "3                  1                 0                  0    1  \n",
       "4                  0                 1                  0    1  \n",
       "5                  0                 0                  1    0  \n",
       "6                  0                 0                  1    0  "
      ]
     },
     "execution_count": 12,
     "metadata": {},
     "output_type": "execute_result"
    }
   ],
   "source": [
    "# обучение\n",
    "\n",
    "df3_train = {}\n",
    "df3_train[u'Пол'] = LabelEncoder().fit_transform([u'М',u'Ж',u'Ж',u'М',u'М',u'Ж',u'Ж'])\n",
    "df3_train[u'Возраст'] = [u'молодой', u'средний', u'средний', u'пожилой', u'молодой', u'средний', u'пожилой']\n",
    "df3_train[u'Образование'] = [u'высшее', u'специальное', u'высшее', u'высшее', u'высшее', u'среднее', u'специальное']\n",
    "df3_train[u'Зарпалата'] = [u'высокая', u'высокая', u'средняя', u'высокая', u'низкая', u'средняя', u'средняя']\n",
    "df3_train[u'Выдать кредит'] = LabelEncoder().fit_transform(['+','+','+','+','-','-','-'])\n",
    "\n",
    "df3_train = create_df(df3_train, fn_3)\n",
    "df3_train[u'Пол'] = LabelEncoder().fit_transform([u'М', u'Ж', u'Ж', u'М', u'М', u'Ж', u'Ж'])\n",
    "df3_train\n"
   ]
  },
  {
   "cell_type": "code",
   "execution_count": 13,
   "metadata": {
    "collapsed": false
   },
   "outputs": [
    {
     "data": {
      "text/html": [
       "<div>\n",
       "<table border=\"1\" class=\"dataframe\">\n",
       "  <thead>\n",
       "    <tr style=\"text-align: right;\">\n",
       "      <th></th>\n",
       "      <th>Возраст_молодой</th>\n",
       "      <th>Возраст_пожилой</th>\n",
       "      <th>Возраст_средний</th>\n",
       "      <th>Образование_высшее</th>\n",
       "      <th>Образование_специальное</th>\n",
       "      <th>Зарпалата_высокая</th>\n",
       "      <th>Зарпалата_средняя</th>\n",
       "      <th>Пол</th>\n",
       "    </tr>\n",
       "  </thead>\n",
       "  <tbody>\n",
       "    <tr>\n",
       "      <th>0</th>\n",
       "      <td>1</td>\n",
       "      <td>0</td>\n",
       "      <td>0</td>\n",
       "      <td>0</td>\n",
       "      <td>1</td>\n",
       "      <td>1</td>\n",
       "      <td>0</td>\n",
       "      <td>0</td>\n",
       "    </tr>\n",
       "    <tr>\n",
       "      <th>1</th>\n",
       "      <td>0</td>\n",
       "      <td>1</td>\n",
       "      <td>0</td>\n",
       "      <td>1</td>\n",
       "      <td>0</td>\n",
       "      <td>0</td>\n",
       "      <td>1</td>\n",
       "      <td>0</td>\n",
       "    </tr>\n",
       "    <tr>\n",
       "      <th>2</th>\n",
       "      <td>0</td>\n",
       "      <td>0</td>\n",
       "      <td>1</td>\n",
       "      <td>0</td>\n",
       "      <td>1</td>\n",
       "      <td>0</td>\n",
       "      <td>1</td>\n",
       "      <td>1</td>\n",
       "    </tr>\n",
       "  </tbody>\n",
       "</table>\n",
       "</div>"
      ],
      "text/plain": [
       "   Возраст_молодой  Возраст_пожилой  Возраст_средний  Образование_высшее  \\\n",
       "0                1                0                0                   0   \n",
       "1                0                1                0                   1   \n",
       "2                0                0                1                   0   \n",
       "\n",
       "   Образование_специальное  Зарпалата_высокая  Зарпалата_средняя  Пол  \n",
       "0                        1                  1                  0    0  \n",
       "1                        0                  0                  1    0  \n",
       "2                        1                  0                  1    1  "
      ]
     },
     "execution_count": 13,
     "metadata": {},
     "output_type": "execute_result"
    }
   ],
   "source": [
    "# тест\n",
    "\n",
    "df3_test = {}\n",
    "df3_test[u'Пол'] =  LabelEncoder().fit_transform([u'Ж', u'Ж', u'М'])\n",
    "df3_test[u'Возраст'] = [u'молодой', u'пожилой', u'средний']\n",
    "df3_test[u'Образование'] = [u'специальное', u'высшее', u'специальное']\n",
    "df3_test[u'Зарпалата'] = [u'высокая', u'средняя', u'средняя']\n",
    "\n",
    "df3_test = create_df(df3_test, fn_3)\n",
    "df3_test[u'Пол'] =  LabelEncoder().fit_transform([u'Ж', u'Ж', u'М'])\n",
    "df3_test"
   ]
  },
  {
   "cell_type": "code",
   "execution_count": 14,
   "metadata": {
    "collapsed": false
   },
   "outputs": [
    {
     "data": {
      "text/html": [
       "<div>\n",
       "<table border=\"1\" class=\"dataframe\">\n",
       "  <thead>\n",
       "    <tr style=\"text-align: right;\">\n",
       "      <th></th>\n",
       "      <th>Возраст_средний</th>\n",
       "      <th>Пол</th>\n",
       "      <th>Возраст_молодой</th>\n",
       "      <th>Образование_специальное</th>\n",
       "      <th>Зарпалата_высокая</th>\n",
       "      <th>Возраст_пожилой</th>\n",
       "      <th>Образование_высшее</th>\n",
       "      <th>Зарпалата_средняя</th>\n",
       "    </tr>\n",
       "  </thead>\n",
       "  <tbody>\n",
       "    <tr>\n",
       "      <th>0</th>\n",
       "      <td>0</td>\n",
       "      <td>1</td>\n",
       "      <td>1</td>\n",
       "      <td>0</td>\n",
       "      <td>1</td>\n",
       "      <td>0</td>\n",
       "      <td>1</td>\n",
       "      <td>0</td>\n",
       "    </tr>\n",
       "    <tr>\n",
       "      <th>1</th>\n",
       "      <td>1</td>\n",
       "      <td>0</td>\n",
       "      <td>0</td>\n",
       "      <td>1</td>\n",
       "      <td>1</td>\n",
       "      <td>0</td>\n",
       "      <td>0</td>\n",
       "      <td>0</td>\n",
       "    </tr>\n",
       "    <tr>\n",
       "      <th>2</th>\n",
       "      <td>1</td>\n",
       "      <td>0</td>\n",
       "      <td>0</td>\n",
       "      <td>0</td>\n",
       "      <td>0</td>\n",
       "      <td>0</td>\n",
       "      <td>1</td>\n",
       "      <td>1</td>\n",
       "    </tr>\n",
       "    <tr>\n",
       "      <th>3</th>\n",
       "      <td>0</td>\n",
       "      <td>1</td>\n",
       "      <td>0</td>\n",
       "      <td>0</td>\n",
       "      <td>1</td>\n",
       "      <td>1</td>\n",
       "      <td>1</td>\n",
       "      <td>0</td>\n",
       "    </tr>\n",
       "    <tr>\n",
       "      <th>4</th>\n",
       "      <td>0</td>\n",
       "      <td>1</td>\n",
       "      <td>1</td>\n",
       "      <td>0</td>\n",
       "      <td>0</td>\n",
       "      <td>0</td>\n",
       "      <td>1</td>\n",
       "      <td>0</td>\n",
       "    </tr>\n",
       "    <tr>\n",
       "      <th>5</th>\n",
       "      <td>1</td>\n",
       "      <td>0</td>\n",
       "      <td>0</td>\n",
       "      <td>0</td>\n",
       "      <td>0</td>\n",
       "      <td>0</td>\n",
       "      <td>0</td>\n",
       "      <td>1</td>\n",
       "    </tr>\n",
       "    <tr>\n",
       "      <th>6</th>\n",
       "      <td>0</td>\n",
       "      <td>0</td>\n",
       "      <td>0</td>\n",
       "      <td>1</td>\n",
       "      <td>0</td>\n",
       "      <td>1</td>\n",
       "      <td>0</td>\n",
       "      <td>1</td>\n",
       "    </tr>\n",
       "  </tbody>\n",
       "</table>\n",
       "</div>"
      ],
      "text/plain": [
       "   Возраст_средний  Пол  Возраст_молодой  Образование_специальное  \\\n",
       "0                0    1                1                        0   \n",
       "1                1    0                0                        1   \n",
       "2                1    0                0                        0   \n",
       "3                0    1                0                        0   \n",
       "4                0    1                1                        0   \n",
       "5                1    0                0                        0   \n",
       "6                0    0                0                        1   \n",
       "\n",
       "   Зарпалата_высокая  Возраст_пожилой  Образование_высшее  Зарпалата_средняя  \n",
       "0                  1                0                   1                  0  \n",
       "1                  1                0                   0                  0  \n",
       "2                  0                0                   1                  1  \n",
       "3                  1                1                   1                  0  \n",
       "4                  0                0                   1                  0  \n",
       "5                  0                0                   0                  1  \n",
       "6                  0                1                   0                  1  "
      ]
     },
     "execution_count": 14,
     "metadata": {},
     "output_type": "execute_result"
    }
   ],
   "source": [
    "# Некоторые значения признаков есть в тесте, но нет в трейне и наоборот\n",
    "y_3 = df3_train[u'Выдать кредит']\n",
    "df3_train, df3_test = intersect_features(train = df3_train, test = df3_test)\n",
    "df3_train"
   ]
  },
  {
   "cell_type": "code",
   "execution_count": 15,
   "metadata": {
    "collapsed": false
   },
   "outputs": [
    {
     "data": {
      "text/html": [
       "<div>\n",
       "<table border=\"1\" class=\"dataframe\">\n",
       "  <thead>\n",
       "    <tr style=\"text-align: right;\">\n",
       "      <th></th>\n",
       "      <th>Возраст_средний</th>\n",
       "      <th>Пол</th>\n",
       "      <th>Возраст_молодой</th>\n",
       "      <th>Образование_специальное</th>\n",
       "      <th>Зарпалата_высокая</th>\n",
       "      <th>Возраст_пожилой</th>\n",
       "      <th>Образование_высшее</th>\n",
       "      <th>Зарпалата_средняя</th>\n",
       "    </tr>\n",
       "  </thead>\n",
       "  <tbody>\n",
       "    <tr>\n",
       "      <th>0</th>\n",
       "      <td>0</td>\n",
       "      <td>0</td>\n",
       "      <td>1</td>\n",
       "      <td>1</td>\n",
       "      <td>1</td>\n",
       "      <td>0</td>\n",
       "      <td>0</td>\n",
       "      <td>0</td>\n",
       "    </tr>\n",
       "    <tr>\n",
       "      <th>1</th>\n",
       "      <td>0</td>\n",
       "      <td>0</td>\n",
       "      <td>0</td>\n",
       "      <td>0</td>\n",
       "      <td>0</td>\n",
       "      <td>1</td>\n",
       "      <td>1</td>\n",
       "      <td>1</td>\n",
       "    </tr>\n",
       "    <tr>\n",
       "      <th>2</th>\n",
       "      <td>1</td>\n",
       "      <td>1</td>\n",
       "      <td>0</td>\n",
       "      <td>1</td>\n",
       "      <td>0</td>\n",
       "      <td>0</td>\n",
       "      <td>0</td>\n",
       "      <td>1</td>\n",
       "    </tr>\n",
       "  </tbody>\n",
       "</table>\n",
       "</div>"
      ],
      "text/plain": [
       "   Возраст_средний  Пол  Возраст_молодой  Образование_специальное  \\\n",
       "0                0    0                1                        1   \n",
       "1                0    0                0                        0   \n",
       "2                1    1                0                        1   \n",
       "\n",
       "   Зарпалата_высокая  Возраст_пожилой  Образование_высшее  Зарпалата_средняя  \n",
       "0                  1                0                   0                  0  \n",
       "1                  0                1                   1                  1  \n",
       "2                  0                0                   0                  1  "
      ]
     },
     "execution_count": 15,
     "metadata": {},
     "output_type": "execute_result"
    }
   ],
   "source": [
    "df3_test"
   ]
  },
  {
   "cell_type": "markdown",
   "metadata": {},
   "source": [
    "## Функции для расчета энтропии и прироста информации"
   ]
  },
  {
   "cell_type": "code",
   "execution_count": 16,
   "metadata": {
    "collapsed": true
   },
   "outputs": [],
   "source": [
    "# данные для теста: 9 синих шариков и 11 желтых\n",
    "b = [1 for i in range(9)] + [0 for i in range(11)]\n",
    "\n",
    "# два разбиения\n",
    "b1 = [1 for i in range(8)] + [0 for i in range(5)] # 8 синих и 5 желтых\n",
    "b2 = [1 for i in range(1)] + [0 for i in range(6)] # 1 синий и 6 желтых"
   ]
  },
  {
   "cell_type": "code",
   "execution_count": 17,
   "metadata": {
    "collapsed": false
   },
   "outputs": [],
   "source": [
    "# расчет энтропии Шеннона\n",
    "def entropy(y):\n",
    "    c = collections.Counter(y)\n",
    "    p = map(lambda x: float(x) / len(y), c.values())\n",
    "    return sum(map(lambda x: -x*np.log2(x), p))"
   ]
  },
  {
   "cell_type": "code",
   "execution_count": 18,
   "metadata": {
    "collapsed": false
   },
   "outputs": [
    {
     "name": "stdout",
     "output_type": "stream",
     "text": [
      "0.591672778582\n",
      "0.992774453988\n",
      "2.58496250072\n"
     ]
    }
   ],
   "source": [
    "print(entropy([1,0,0,0,0,0,0])) # 1 синий и 6 желтых\n",
    "print(entropy(b))\n",
    "print(entropy([1,2,3,4,5,6])) # энтропия игральной кости с несмещенным центром тяжести"
   ]
  },
  {
   "cell_type": "code",
   "execution_count": 19,
   "metadata": {
    "collapsed": true
   },
   "outputs": [],
   "source": [
    "# расчет прироста информации\n",
    "\n",
    "def information_gain(root, left, right):\n",
    "    ''' root - изначальный набор данных, left и right два разбиения изначального набора'''\n",
    "    N = float(len(root))\n",
    "    N1 = float(len(left))\n",
    "    N2 = float(len(right))\n",
    "    return entropy(root) - (N1/N) * entropy(left) - (N2/N) * entropy(right)"
   ]
  },
  {
   "cell_type": "code",
   "execution_count": 20,
   "metadata": {
    "collapsed": false
   },
   "outputs": [
    {
     "name": "stdout",
     "output_type": "stream",
     "text": [
      "0.160885188414\n"
     ]
    }
   ],
   "source": [
    "print(information_gain(b,b1,b2))"
   ]
  },
  {
   "cell_type": "code",
   "execution_count": 21,
   "metadata": {
    "collapsed": false
   },
   "outputs": [],
   "source": [
    "# функция для расчета прироста информации при разбиении набора данных \n",
    "\n",
    "def split(X, y):\n",
    "    ''' Выводит прирост информации при разбиении по каждому признаку'''\n",
    "    inf_gain = {}\n",
    "    if isinstance(X, pd.core.frame.DataFrame):\n",
    "        for k in X.columns:\n",
    "            inf_gain[k] = information_gain(y, y[X[k] == 0], y[X[k] == 1])\n",
    "        print(pd.DataFrame(inf_gain, index = ['IG']).T.sort(['IG']))\n",
    "        \n",
    "    elif isinstance(X, pd.core.series.Series):\n",
    "        print(information_gain(y, y[X == 0], y[X == 1]))"
   ]
  },
  {
   "cell_type": "markdown",
   "metadata": {},
   "source": [
    "## Анализ данных с помощью энтропийного критерия"
   ]
  },
  {
   "cell_type": "markdown",
   "metadata": {},
   "source": [
    "Условимся, что левое поддерово то, для которого значение признака = 0"
   ]
  },
  {
   "cell_type": "markdown",
   "metadata": {},
   "source": [
    "### Служба знакомств"
   ]
  },
  {
   "cell_type": "markdown",
   "metadata": {},
   "source": [
    "1) Разбиение исходного набора. Видно, что максимальный прирост 0.198 достигается при разбиении на трех признаках:\n",
    " * Внешность_отталкивающая  \n",
    " * Внешность_приятная       \n",
    " * Доход_низкий"
   ]
  },
  {
   "cell_type": "code",
   "execution_count": 22,
   "metadata": {
    "collapsed": false
   },
   "outputs": [
    {
     "name": "stdout",
     "output_type": "stream",
     "text": [
      "                               IG\n",
      "Возраст_молодой          0.005978\n",
      "Возраст_пожилой          0.005978\n",
      "Доход_средний            0.005978\n",
      "Образование_специальное  0.005978\n",
      "Возраст_средний          0.020244\n",
      "Доход_высокий            0.128085\n",
      "Образование_высшее       0.128085\n",
      "Внешность_отталкивающая  0.198117\n",
      "Внешность_приятная       0.198117\n",
      "Доход_низкий             0.198117\n"
     ]
    }
   ],
   "source": [
    "split(df1_train, y_1)"
   ]
  },
  {
   "cell_type": "markdown",
   "metadata": {},
   "source": [
    " 2) Выберем для следующего разбиения признак \"Внешность_приятная\". Левое поддерево:"
   ]
  },
  {
   "cell_type": "code",
   "execution_count": 23,
   "metadata": {
    "collapsed": false
   },
   "outputs": [
    {
     "data": {
      "text/html": [
       "<div>\n",
       "<table border=\"1\" class=\"dataframe\">\n",
       "  <thead>\n",
       "    <tr style=\"text-align: right;\">\n",
       "      <th></th>\n",
       "      <th>Возраст_средний</th>\n",
       "      <th>Возраст_молодой</th>\n",
       "      <th>Доход_высокий</th>\n",
       "      <th>Образование_специальное</th>\n",
       "      <th>Внешность_приятная</th>\n",
       "      <th>Доход_низкий</th>\n",
       "      <th>Возраст_пожилой</th>\n",
       "      <th>Внешность_отталкивающая</th>\n",
       "      <th>Образование_высшее</th>\n",
       "      <th>Доход_средний</th>\n",
       "    </tr>\n",
       "  </thead>\n",
       "  <tbody>\n",
       "    <tr>\n",
       "      <th>0</th>\n",
       "      <td>0</td>\n",
       "      <td>1</td>\n",
       "      <td>1</td>\n",
       "      <td>1</td>\n",
       "      <td>1</td>\n",
       "      <td>0</td>\n",
       "      <td>0</td>\n",
       "      <td>0</td>\n",
       "      <td>0</td>\n",
       "      <td>0</td>\n",
       "    </tr>\n",
       "    <tr>\n",
       "      <th>1</th>\n",
       "      <td>1</td>\n",
       "      <td>0</td>\n",
       "      <td>1</td>\n",
       "      <td>0</td>\n",
       "      <td>1</td>\n",
       "      <td>0</td>\n",
       "      <td>0</td>\n",
       "      <td>0</td>\n",
       "      <td>1</td>\n",
       "      <td>0</td>\n",
       "    </tr>\n",
       "    <tr>\n",
       "      <th>2</th>\n",
       "      <td>0</td>\n",
       "      <td>0</td>\n",
       "      <td>1</td>\n",
       "      <td>0</td>\n",
       "      <td>1</td>\n",
       "      <td>0</td>\n",
       "      <td>1</td>\n",
       "      <td>0</td>\n",
       "      <td>1</td>\n",
       "      <td>0</td>\n",
       "    </tr>\n",
       "    <tr>\n",
       "      <th>3</th>\n",
       "      <td>1</td>\n",
       "      <td>0</td>\n",
       "      <td>0</td>\n",
       "      <td>0</td>\n",
       "      <td>1</td>\n",
       "      <td>0</td>\n",
       "      <td>0</td>\n",
       "      <td>0</td>\n",
       "      <td>1</td>\n",
       "      <td>1</td>\n",
       "    </tr>\n",
       "    <tr>\n",
       "      <th>4</th>\n",
       "      <td>0</td>\n",
       "      <td>1</td>\n",
       "      <td>0</td>\n",
       "      <td>1</td>\n",
       "      <td>1</td>\n",
       "      <td>1</td>\n",
       "      <td>0</td>\n",
       "      <td>0</td>\n",
       "      <td>0</td>\n",
       "      <td>0</td>\n",
       "    </tr>\n",
       "    <tr>\n",
       "      <th>5</th>\n",
       "      <td>1</td>\n",
       "      <td>0</td>\n",
       "      <td>1</td>\n",
       "      <td>0</td>\n",
       "      <td>0</td>\n",
       "      <td>0</td>\n",
       "      <td>0</td>\n",
       "      <td>1</td>\n",
       "      <td>1</td>\n",
       "      <td>0</td>\n",
       "    </tr>\n",
       "    <tr>\n",
       "      <th>6</th>\n",
       "      <td>0</td>\n",
       "      <td>0</td>\n",
       "      <td>0</td>\n",
       "      <td>0</td>\n",
       "      <td>1</td>\n",
       "      <td>0</td>\n",
       "      <td>1</td>\n",
       "      <td>0</td>\n",
       "      <td>0</td>\n",
       "      <td>1</td>\n",
       "    </tr>\n",
       "  </tbody>\n",
       "</table>\n",
       "</div>"
      ],
      "text/plain": [
       "   Возраст_средний  Возраст_молодой  Доход_высокий  Образование_специальное  \\\n",
       "0                0                1              1                        1   \n",
       "1                1                0              1                        0   \n",
       "2                0                0              1                        0   \n",
       "3                1                0              0                        0   \n",
       "4                0                1              0                        1   \n",
       "5                1                0              1                        0   \n",
       "6                0                0              0                        0   \n",
       "\n",
       "   Внешность_приятная  Доход_низкий  Возраст_пожилой  Внешность_отталкивающая  \\\n",
       "0                   1             0                0                        0   \n",
       "1                   1             0                0                        0   \n",
       "2                   1             0                1                        0   \n",
       "3                   1             0                0                        0   \n",
       "4                   1             1                0                        0   \n",
       "5                   0             0                0                        1   \n",
       "6                   1             0                1                        0   \n",
       "\n",
       "   Образование_высшее  Доход_средний  \n",
       "0                   0              0  \n",
       "1                   1              0  \n",
       "2                   1              0  \n",
       "3                   1              1  \n",
       "4                   0              0  \n",
       "5                   1              0  \n",
       "6                   0              1  "
      ]
     },
     "execution_count": 23,
     "metadata": {},
     "output_type": "execute_result"
    }
   ],
   "source": [
    "df1_train"
   ]
  },
  {
   "cell_type": "code",
   "execution_count": 24,
   "metadata": {
    "collapsed": false
   },
   "outputs": [],
   "source": [
    "df1_train_left = df1_train[df1_train[u'Внешность_приятная'] == 0]\n",
    "df1_train_right = df1_train[df1_train[u'Внешность_приятная'] == 1]"
   ]
  },
  {
   "cell_type": "code",
   "execution_count": 25,
   "metadata": {
    "collapsed": false
   },
   "outputs": [
    {
     "name": "stdout",
     "output_type": "stream",
     "text": [
      "                          IG\n",
      "Внешность_отталкивающая  0.0\n",
      "Внешность_приятная       0.0\n",
      "Возраст_молодой          0.0\n",
      "Возраст_пожилой          0.0\n",
      "Возраст_средний          0.0\n",
      "Доход_высокий            0.0\n",
      "Доход_низкий             0.0\n",
      "Доход_средний            0.0\n",
      "Образование_высшее       0.0\n",
      "Образование_специальное  0.0\n"
     ]
    }
   ],
   "source": [
    "split(df1_train_left, y_1[df1_train_left.index])"
   ]
  },
  {
   "cell_type": "markdown",
   "metadata": {},
   "source": [
    "Правое поддерево:"
   ]
  },
  {
   "cell_type": "code",
   "execution_count": 26,
   "metadata": {
    "collapsed": false
   },
   "outputs": [
    {
     "name": "stdout",
     "output_type": "stream",
     "text": [
      "                               IG\n",
      "Внешность_отталкивающая  0.000000\n",
      "Внешность_приятная       0.000000\n",
      "Возраст_молодой          0.044110\n",
      "Возраст_пожилой          0.044110\n",
      "Доход_средний            0.044110\n",
      "Образование_специальное  0.044110\n",
      "Возраст_средний          0.251629\n",
      "Доход_низкий             0.316689\n",
      "Доход_высокий            0.459148\n",
      "Образование_высшее       0.459148\n"
     ]
    }
   ],
   "source": [
    "split(df1_train_right, y_1[df1_train_right.index])"
   ]
  },
  {
   "cell_type": "markdown",
   "metadata": {},
   "source": [
    "В левом поддереве получился прирост 0, поскольку там оказался один объект. В правом поддереве сделаем разбиение по признаку \"Образование_высшее\"."
   ]
  },
  {
   "cell_type": "markdown",
   "metadata": {},
   "source": [
    "Предполагается, что новый объект относится к тому классу, объектов из обучающей выборки которого в листе большинство"
   ]
  },
  {
   "cell_type": "markdown",
   "metadata": {},
   "source": [
    "<img src='../../img/toy_task_tree1_by_hand.png' width=50%>"
   ]
  },
  {
   "cell_type": "markdown",
   "metadata": {},
   "source": [
    "Согласно построенному дереву, тестовые объекты следует классифицировать так:\n",
    "1. Да\n",
    "2. Нет\n",
    "3. Да"
   ]
  },
  {
   "cell_type": "markdown",
   "metadata": {},
   "source": [
    "### Автоугон"
   ]
  },
  {
   "cell_type": "markdown",
   "metadata": {},
   "source": [
    "Аналогичные рассуждения:"
   ]
  },
  {
   "cell_type": "code",
   "execution_count": 27,
   "metadata": {
    "collapsed": false
   },
   "outputs": [
    {
     "name": "stdout",
     "output_type": "stream",
     "text": [
      "                           IG\n",
      "Цвет_Красный         0.020244\n",
      "Повреждения_нет      0.128085\n",
      "Производство_США     0.128085\n",
      "Производство_Япония  0.128085\n",
      "Тип_Джип             0.128085\n",
      "Тип_Спортивный       0.128085\n"
     ]
    }
   ],
   "source": [
    "split(df2_train, y_2)"
   ]
  },
  {
   "cell_type": "code",
   "execution_count": 28,
   "metadata": {
    "collapsed": false
   },
   "outputs": [
    {
     "name": "stdout",
     "output_type": "stream",
     "text": [
      "                           IG\n",
      "Тип_Джип             0.000000\n",
      "Тип_Спортивный       0.000000\n",
      "Повреждения_нет      0.251629\n",
      "Производство_США     0.251629\n",
      "Производство_Япония  0.251629\n",
      "Цвет_Красный         0.251629\n"
     ]
    }
   ],
   "source": [
    "split(df2_train[df2_train[u'Тип_Спортивный'] == 0], y_2[df2_train[u'Тип_Спортивный'] == 0])"
   ]
  },
  {
   "cell_type": "code",
   "execution_count": 29,
   "metadata": {
    "collapsed": false
   },
   "outputs": [
    {
     "name": "stdout",
     "output_type": "stream",
     "text": [
      "                           IG\n",
      "Тип_Джип             0.000000\n",
      "Тип_Спортивный       0.000000\n",
      "Повреждения_нет      0.311278\n",
      "Производство_США     0.311278\n",
      "Производство_Япония  0.311278\n",
      "Цвет_Красный         0.311278\n"
     ]
    }
   ],
   "source": [
    "split(df2_train[df2_train[u'Тип_Спортивный'] == 1],y_2[df2_train[u'Тип_Спортивный'] == 1])"
   ]
  },
  {
   "cell_type": "code",
   "execution_count": 30,
   "metadata": {
    "collapsed": false
   },
   "outputs": [
    {
     "data": {
      "text/plain": [
       "2    0\n",
       "5    1\n",
       "Name: Угоняют, dtype: int64"
      ]
     },
     "execution_count": 30,
     "metadata": {},
     "output_type": "execute_result"
    }
   ],
   "source": [
    "y_2[(df2_train[u'Тип_Спортивный'] == 0) & (df2_train[u'Цвет_Красный'] == 0)] "
   ]
  },
  {
   "cell_type": "code",
   "execution_count": 31,
   "metadata": {
    "collapsed": false
   },
   "outputs": [
    {
     "data": {
      "text/plain": [
       "6    1\n",
       "Name: Угоняют, dtype: int64"
      ]
     },
     "execution_count": 31,
     "metadata": {},
     "output_type": "execute_result"
    }
   ],
   "source": [
    "y_2[(df2_train[u'Тип_Спортивный'] == 0) & (df2_train[u'Цвет_Красный'] == 1)]"
   ]
  },
  {
   "cell_type": "code",
   "execution_count": 32,
   "metadata": {
    "collapsed": false
   },
   "outputs": [
    {
     "data": {
      "text/plain": [
       "1    0\n",
       "4    1\n",
       "Name: Угоняют, dtype: int64"
      ]
     },
     "execution_count": 32,
     "metadata": {},
     "output_type": "execute_result"
    }
   ],
   "source": [
    "y_2[(df2_train[u'Тип_Спортивный'] == 1) & (df2_train[u'Цвет_Красный'] == 0)]"
   ]
  },
  {
   "cell_type": "code",
   "execution_count": 33,
   "metadata": {
    "collapsed": false
   },
   "outputs": [
    {
     "data": {
      "text/plain": [
       "0    0\n",
       "3    0\n",
       "Name: Угоняют, dtype: int64"
      ]
     },
     "execution_count": 33,
     "metadata": {},
     "output_type": "execute_result"
    }
   ],
   "source": [
    "y_2[(df2_train[u'Тип_Спортивный'] == 1) & (df2_train[u'Цвет_Красный'] == 1)]"
   ]
  },
  {
   "cell_type": "markdown",
   "metadata": {},
   "source": [
    "<img src='../../img/toy_task_tree2_by_hand.png' width=50%>"
   ]
  },
  {
   "cell_type": "markdown",
   "metadata": {},
   "source": [
    "Согласно построенному дереву, тестовые объекты следует классифицировать так:\n",
    "1. Нет\n",
    "2. Да\n",
    "3. Нет"
   ]
  },
  {
   "cell_type": "markdown",
   "metadata": {},
   "source": [
    "### Выдача кредита"
   ]
  },
  {
   "cell_type": "code",
   "execution_count": 34,
   "metadata": {
    "collapsed": false
   },
   "outputs": [
    {
     "name": "stdout",
     "output_type": "stream",
     "text": [
      "                               IG\n",
      "Возраст_молодой          0.005978\n",
      "Возраст_пожилой          0.005978\n",
      "Образование_специальное  0.005978\n",
      "Возраст_средний          0.020244\n",
      "Пол                      0.020244\n",
      "Зарпалата_средняя        0.128085\n",
      "Образование_высшее       0.128085\n",
      "Зарпалата_высокая        0.521641\n"
     ]
    }
   ],
   "source": [
    "split(df3_train, y_3)"
   ]
  },
  {
   "cell_type": "code",
   "execution_count": 35,
   "metadata": {
    "collapsed": false
   },
   "outputs": [
    {
     "name": "stdout",
     "output_type": "stream",
     "text": [
      "                               IG\n",
      "Зарпалата_высокая        0.000000\n",
      "Возраст_молодой          0.122556\n",
      "Возраст_пожилой          0.122556\n",
      "Зарпалата_средняя        0.122556\n",
      "Образование_специальное  0.122556\n",
      "Пол                      0.122556\n",
      "Возраст_средний          0.311278\n",
      "Образование_высшее       0.311278\n"
     ]
    }
   ],
   "source": [
    "split(df3_train[df3_train[u'Зарпалата_высокая'] == 0], y_3[df3_train[u'Зарпалата_высокая'] == 0])"
   ]
  },
  {
   "cell_type": "code",
   "execution_count": 36,
   "metadata": {
    "collapsed": false,
    "scrolled": true
   },
   "outputs": [
    {
     "name": "stdout",
     "output_type": "stream",
     "text": [
      "                          IG\n",
      "Возраст_молодой          0.0\n",
      "Возраст_пожилой          0.0\n",
      "Возраст_средний          0.0\n",
      "Зарпалата_высокая        0.0\n",
      "Зарпалата_средняя        0.0\n",
      "Образование_высшее       0.0\n",
      "Образование_специальное  0.0\n",
      "Пол                      0.0\n"
     ]
    }
   ],
   "source": [
    "split(df3_train[df3_train[u'Зарпалата_высокая'] == 1], y_3[df3_train[u'Зарпалата_высокая'] == 1])"
   ]
  },
  {
   "cell_type": "code",
   "execution_count": 37,
   "metadata": {
    "collapsed": false
   },
   "outputs": [
    {
     "data": {
      "text/plain": [
       "0    0\n",
       "1    0\n",
       "3    0\n",
       "Name: Выдать кредит, dtype: int64"
      ]
     },
     "execution_count": 37,
     "metadata": {},
     "output_type": "execute_result"
    }
   ],
   "source": [
    "y_3[df3_train[u'Зарпалата_высокая'] == 1]"
   ]
  },
  {
   "cell_type": "code",
   "execution_count": 38,
   "metadata": {
    "collapsed": false
   },
   "outputs": [
    {
     "data": {
      "text/plain": [
       "5    1\n",
       "6    1\n",
       "Name: Выдать кредит, dtype: int64"
      ]
     },
     "execution_count": 38,
     "metadata": {},
     "output_type": "execute_result"
    }
   ],
   "source": [
    "y_3[(df3_train[u'Зарпалата_высокая'] == 0) & (df3_train[u'Образование_высшее'] == 0)]"
   ]
  },
  {
   "cell_type": "code",
   "execution_count": 39,
   "metadata": {
    "collapsed": false
   },
   "outputs": [
    {
     "data": {
      "text/plain": [
       "2    0\n",
       "4    1\n",
       "Name: Выдать кредит, dtype: int64"
      ]
     },
     "execution_count": 39,
     "metadata": {},
     "output_type": "execute_result"
    }
   ],
   "source": [
    "y_3[(df3_train[u'Зарпалата_высокая'] == 0) & (df3_train[u'Образование_высшее'] == 1)]"
   ]
  },
  {
   "cell_type": "markdown",
   "metadata": {},
   "source": [
    "<img src='../../img/toy_task_tree3_by_hand.png' width=50%>"
   ]
  },
  {
   "cell_type": "markdown",
   "metadata": {},
   "source": [
    "Согласно построенному дереву, тестовые объекты следует классифицировать так:\n",
    "1. Да\n",
    "2. Да\n",
    "3. Нет"
   ]
  }
 ],
 "metadata": {
  "anaconda-cloud": {},
  "kernelspec": {
   "display_name": "Python 3",
   "language": "python",
   "name": "python3"
  },
  "language_info": {
   "codemirror_mode": {
    "name": "ipython",
    "version": 3
   },
   "file_extension": ".py",
   "mimetype": "text/x-python",
   "name": "python",
   "nbconvert_exporter": "python",
   "pygments_lexer": "ipython3",
   "version": "3.5.2"
  }
 },
 "nbformat": 4,
 "nbformat_minor": 0
}
