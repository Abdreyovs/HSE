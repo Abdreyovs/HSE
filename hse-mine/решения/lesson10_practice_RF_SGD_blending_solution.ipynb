{
 "cells": [
  {
   "cell_type": "markdown",
   "metadata": {},
   "source": [
    "<center>\n",
    "<img src=\"../../img/ml_theme.png\">\n",
    "# Дополнительное профессиональное <br> образование НИУ ВШЭ\n",
    "#### Программа \"Практический анализ данных и машинное обучение\"\n",
    "<img src=\"../../img/faculty_logo.jpg\" height=\"240\" width=\"240\">\n",
    "## Автор материала: старший преподаватель Факультета Компьютерных Наук НИУ ВШЭ <br> Кашницкий Юрий\n",
    "</center>\n",
    "Материал распространяется на условиях лицензии <a href=\"https://opensource.org/licenses/MS-RL\">Ms-RL</a>. Можно использовать в любых целях, кроме коммерческих, но с обязательным упоминанием автора материала."
   ]
  },
  {
   "cell_type": "markdown",
   "metadata": {},
   "source": [
    "# <center>Занятие 10. Временные ряды. Блендинг моделей.</center>\n",
    "## <center>Практика.  Смешивание случайного леса и логитической регресии для набора данных по идентификации пользователей. Решение</center>"
   ]
  },
  {
   "cell_type": "code",
   "execution_count": 1,
   "metadata": {
    "collapsed": true
   },
   "outputs": [],
   "source": [
    "import numpy as np\n",
    "import pickle\n",
    "from sklearn.linear_model import SGDClassifier\n",
    "from xgboost import XGBClassifier\n",
    "from sklearn.model_selection import train_test_split, cross_val_predict, StratifiedKFold\n",
    "from sklearn.ensemble import RandomForestClassifier\n",
    "from sklearn.metrics import accuracy_score, log_loss"
   ]
  },
  {
   "cell_type": "markdown",
   "metadata": {},
   "source": [
    "**Считаем данные по посещению 10 пользователями 4913 сайтов. Формат – разреженный, данные считываем  с помощью pickle (сериализация в Python).**"
   ]
  },
  {
   "cell_type": "code",
   "execution_count": 2,
   "metadata": {
    "collapsed": false
   },
   "outputs": [],
   "source": [
    "with open('../../data/web_sessions_10users.pkl', 'rb') as X_sparse_pickle:\n",
    "    data = pickle.load(X_sparse_pickle)\n",
    "with open('../../data/web_sessions_10users_ids.pkl', 'rb') as y_pickle:\n",
    "    target = pickle.load(y_pickle)"
   ]
  },
  {
   "cell_type": "code",
   "execution_count": 3,
   "metadata": {
    "collapsed": false
   },
   "outputs": [
    {
     "data": {
      "text/plain": [
       "((14061, 4913), (14061,))"
      ]
     },
     "execution_count": 3,
     "metadata": {},
     "output_type": "execute_result"
    }
   ],
   "source": [
    "data.shape, target.shape"
   ]
  },
  {
   "cell_type": "markdown",
   "metadata": {},
   "source": [
    "**Посмотрим на 1 строку. 1 – число посещений сайта с индесом 1 в сессии из 10 сайтов, 2  – число посещений сайта с индесом 2 в сессии из 10 сайтов, далее опять 1 – число посещений сайта с индесом 3 и т.д. Большинство сайтов не посещены, поэтому разреженный формат тут уместен.**"
   ]
  },
  {
   "cell_type": "code",
   "execution_count": 4,
   "metadata": {
    "collapsed": false
   },
   "outputs": [
    {
     "data": {
      "text/plain": [
       "matrix([[1, 2, 1, ..., 0, 0, 0]])"
      ]
     },
     "execution_count": 4,
     "metadata": {},
     "output_type": "execute_result"
    }
   ],
   "source": [
    "data[0,:].todense()"
   ]
  },
  {
   "cell_type": "markdown",
   "metadata": {},
   "source": [
    "**Делим на обучающую и проверочную части.**"
   ]
  },
  {
   "cell_type": "code",
   "execution_count": 5,
   "metadata": {
    "collapsed": false
   },
   "outputs": [],
   "source": [
    "X_train, X_valid, y_train, y_valid = train_test_split(data, target, test_size=0.3, \n",
    "                                                     random_state=7, stratify=target)"
   ]
  },
  {
   "cell_type": "markdown",
   "metadata": {},
   "source": [
    "**Обучите логистическую регрессию стохастическим градиентным спуском. У SGDClassifier укажите только параметры loss, n_jobs  и random_state=7.**"
   ]
  },
  {
   "cell_type": "code",
   "execution_count": 6,
   "metadata": {
    "collapsed": true
   },
   "outputs": [],
   "source": [
    "sgd = SGDClassifier(loss='log', n_jobs=-1, random_state=7)"
   ]
  },
  {
   "cell_type": "code",
   "execution_count": 7,
   "metadata": {
    "collapsed": false
   },
   "outputs": [
    {
     "data": {
      "text/plain": [
       "SGDClassifier(alpha=0.0001, average=False, class_weight=None, epsilon=0.1,\n",
       "       eta0=0.0, fit_intercept=True, l1_ratio=0.15,\n",
       "       learning_rate='optimal', loss='log', n_iter=5, n_jobs=-1,\n",
       "       penalty='l2', power_t=0.5, random_state=7, shuffle=True, verbose=0,\n",
       "       warm_start=False)"
      ]
     },
     "execution_count": 7,
     "metadata": {},
     "output_type": "execute_result"
    }
   ],
   "source": [
    "sgd.fit(X_train, y_train,)"
   ]
  },
  {
   "cell_type": "markdown",
   "metadata": {},
   "source": [
    "**Сделайте вероятностный прогноз (predict_proba) для проверочной выборки X_valid. Посмотрите, как он будет выглядеть (первые несколько штук).**"
   ]
  },
  {
   "cell_type": "code",
   "execution_count": 8,
   "metadata": {
    "collapsed": true
   },
   "outputs": [],
   "source": [
    "sgd_valid_pred_prob = sgd.predict_proba(X_valid)"
   ]
  },
  {
   "cell_type": "markdown",
   "metadata": {},
   "source": [
    "**Посчитайте многоклассовую логистическую функцию ошибки на проверочной выборке (X_valid, y_valid)**"
   ]
  },
  {
   "cell_type": "code",
   "execution_count": 9,
   "metadata": {
    "collapsed": false
   },
   "outputs": [
    {
     "data": {
      "text/plain": [
       "1.155"
      ]
     },
     "execution_count": 9,
     "metadata": {},
     "output_type": "execute_result"
    }
   ],
   "source": [
    "round(log_loss(y_valid, sgd_valid_pred_prob), 3)"
   ]
  },
  {
   "cell_type": "markdown",
   "metadata": {},
   "source": [
    "**Посчитайте долю правильных ответов SGD на проверочной выборке (X_valid, y_valid), получив прогнозы из предсказанных вероятностей. Помогут методы numpy unique (посмотреть уникальные метки целевого класса) и argmax (определить, вероятность отнесения к какому из классов макисмальна). Разберитесь сначала с одной строкой, потом – со всей матрицей sgd_valid_pred_prob.**"
   ]
  },
  {
   "cell_type": "code",
   "execution_count": 10,
   "metadata": {
    "collapsed": false
   },
   "outputs": [
    {
     "data": {
      "text/plain": [
       "0.712"
      ]
     },
     "execution_count": 10,
     "metadata": {},
     "output_type": "execute_result"
    }
   ],
   "source": [
    "round(float(accuracy_score(y_valid, \n",
    "                           np.unique(y_valid)[np.argmax(sgd_valid_pred_prob, axis=1)])), 3)"
   ]
  },
  {
   "cell_type": "markdown",
   "metadata": {},
   "source": [
    "**Сделайте все то же для случайного леса. Оставьте только параметры n_jobs=-1, random_state=7. Остальные не будем настраивать.**"
   ]
  },
  {
   "cell_type": "code",
   "execution_count": 11,
   "metadata": {
    "collapsed": false
   },
   "outputs": [
    {
     "name": "stdout",
     "output_type": "stream",
     "text": [
      "3.306\n",
      "0.682\n"
     ]
    }
   ],
   "source": [
    "forest = RandomForestClassifier(n_jobs=-1, random_state=7)\n",
    "forest.fit(X_train, y_train)\n",
    "forest_valid_pred_prob  = forest.predict_proba(X_valid)\n",
    "print(round(log_loss(y_valid, forest_valid_pred_prob), 3))\n",
    "print(round(float(accuracy_score(y_valid, np.unique(y_valid)[np.argmax(forest_valid_pred_prob, axis=1)])), 3))"
   ]
  },
  {
   "cell_type": "markdown",
   "metadata": {
    "collapsed": true
   },
   "source": [
    "**Посчитайте log_loss и долю правильных ответов для следующего прогноза: 0.8 \\* sgd_valid_pred_prob + 0.2 \\* forest_valid_pred_prob. Для каждого примера такая предсказанная вероятность будет линейной комбинацией предсказанных вероятностей отнесения к тому или иному классу, сделанных SGD и лесом.**"
   ]
  },
  {
   "cell_type": "code",
   "execution_count": 12,
   "metadata": {
    "collapsed": false
   },
   "outputs": [
    {
     "name": "stdout",
     "output_type": "stream",
     "text": [
      "0.933948544171\n",
      "0.723157146243\n"
     ]
    }
   ],
   "source": [
    "mix_valid_pred_prob = 0.8 * sgd_valid_pred_prob + 0.2 * forest_valid_pred_prob\n",
    "print(log_loss(y_valid, mix_valid_pred_prob))\n",
    "print(accuracy_score(y_valid, np.unique(y_valid)[np.argmax(mix_valid_pred_prob, axis=1)]))"
   ]
  },
  {
   "cell_type": "markdown",
   "metadata": {},
   "source": [
    "### Настройка коэффициентов в смеси"
   ]
  },
  {
   "cell_type": "markdown",
   "metadata": {},
   "source": [
    "**Реализуйте функцию cross_val_predict_proba, которая работает как cross_val_predict, только возвращает предсказанные вероятности, а не метки. Функция принимает следующие аргументы:**\n",
    "\n",
    "- estimator – объект Estimator Scikit-learn (классификатор или регрессор)\n",
    "- X_train - матрица NumPy, соответсnвующая обучающей выборке\n",
    "- y_train - вектор NumPy с ответами для объектов из X_train\n",
    "- skf – объект KFold (или StratifiedKFold), задающий кросс-валидацию"
   ]
  },
  {
   "cell_type": "code",
   "execution_count": 13,
   "metadata": {
    "collapsed": true
   },
   "outputs": [],
   "source": [
    "def cross_val_predict_proba(estimator, X_train, y_train, skf):\n",
    "    \n",
    "    prediction = np.zeros([y_train.shape[0], len(np.unique(y_train))])\n",
    "    for train_idx, test_idx in skf.split(X_train, y_train):\n",
    "        X_train_part, X_test = X_train[train_idx, :], X_train[test_idx,:]\n",
    "        y_train_part, y_test = y_train[train_idx], y_train[test_idx]\n",
    "        \n",
    "        estimator.fit(X_train_part, y_train_part)\n",
    "        \n",
    "        prediction[test_idx, :] = estimator.predict_proba(X_test)\n",
    "        \n",
    "    return(prediction)"
   ]
  },
  {
   "cell_type": "markdown",
   "metadata": {},
   "source": [
    "**Зададим конкретный вид кросс-валидации – 5-кратную, с перемешиванием объектов.**"
   ]
  },
  {
   "cell_type": "code",
   "execution_count": 14,
   "metadata": {
    "collapsed": true
   },
   "outputs": [],
   "source": [
    "skf = StratifiedKFold(n_splits=5, random_state=7, shuffle=True)"
   ]
  },
  {
   "cell_type": "markdown",
   "metadata": {},
   "source": [
    "**Сделайте \"Оut-of-Fold\" прогноз для SGD, посмотрите на качество (log_loss и долю правильных ответов) на кросс-валидации.**"
   ]
  },
  {
   "cell_type": "code",
   "execution_count": 15,
   "metadata": {
    "collapsed": false
   },
   "outputs": [],
   "source": [
    "sgd_oof_pred = cross_val_predict_proba(sgd, X_train, y_train, skf)"
   ]
  },
  {
   "cell_type": "code",
   "execution_count": 16,
   "metadata": {
    "collapsed": false
   },
   "outputs": [
    {
     "name": "stdout",
     "output_type": "stream",
     "text": [
      "1.22253381372\n",
      "0.712863239179\n"
     ]
    }
   ],
   "source": [
    "print(log_loss(y_train, sgd_oof_pred))\n",
    "print(accuracy_score(y_train, np.unique(y_valid)[np.argmax(sgd_oof_pred, axis=1)]))"
   ]
  },
  {
   "cell_type": "markdown",
   "metadata": {},
   "source": [
    "**Сделайте \"Оut-of-Fold\" прогноз для леса, посмотрите на качество (log_loss и долю правильных ответов) на кросс-валидации.**"
   ]
  },
  {
   "cell_type": "code",
   "execution_count": 17,
   "metadata": {
    "collapsed": true
   },
   "outputs": [],
   "source": [
    "forest_oof_pred = cross_val_predict_proba(forest, X_train, y_train, skf)"
   ]
  },
  {
   "cell_type": "code",
   "execution_count": 18,
   "metadata": {
    "collapsed": false
   },
   "outputs": [
    {
     "name": "stdout",
     "output_type": "stream",
     "text": [
      "3.46442186517\n",
      "0.683804104857\n"
     ]
    }
   ],
   "source": [
    "print(log_loss(y_train, forest_oof_pred))\n",
    "print(accuracy_score(y_train, np.unique(y_valid)[np.argmax(forest_oof_pred, axis=1)]))"
   ]
  },
  {
   "cell_type": "markdown",
   "metadata": {},
   "source": [
    "**Подберем веса в смеси SGD и леса. Будем перебирать значения веса, с которым в смесь входят прогнозы SGD, – $w_1$. Тогда у прогнозов, сделанных лесом, вес будет $w_2 = 1 - w_1$. **"
   ]
  },
  {
   "cell_type": "code",
   "execution_count": 19,
   "metadata": {
    "collapsed": true
   },
   "outputs": [],
   "source": [
    "def best_linear_mix(target, pred1, pred2):\n",
    "    best_loss, best_w1 = np.inf, np.inf\n",
    "    best_pred = pred1\n",
    "    for w1 in np.linspace(0, 1, 20):\n",
    "        curr_pred = w1 * pred1 + (1 - w1) * pred2\n",
    "        curr_loss = log_loss(target, curr_pred)\n",
    "        if curr_loss < best_loss:\n",
    "            best_loss = curr_loss\n",
    "            best_pred = curr_pred\n",
    "            best_w1 = w1\n",
    "    return best_loss, best_pred, best_w1"
   ]
  },
  {
   "cell_type": "code",
   "execution_count": 20,
   "metadata": {
    "collapsed": false
   },
   "outputs": [],
   "source": [
    "best_loss, best_pred, best_w1 = best_linear_mix(y_train, sgd_oof_pred, forest_oof_pred)"
   ]
  },
  {
   "cell_type": "code",
   "execution_count": 21,
   "metadata": {
    "collapsed": false
   },
   "outputs": [
    {
     "data": {
      "text/plain": [
       "(0.95307324433555185, 0.63157894736842102)"
      ]
     },
     "execution_count": 21,
     "metadata": {},
     "output_type": "execute_result"
    }
   ],
   "source": [
    "best_loss, best_w1"
   ]
  },
  {
   "cell_type": "code",
   "execution_count": 22,
   "metadata": {
    "collapsed": false
   },
   "outputs": [
    {
     "data": {
      "text/plain": [
       "0.73328591749644378"
      ]
     },
     "execution_count": 22,
     "metadata": {},
     "output_type": "execute_result"
    }
   ],
   "source": [
    "accuracy_score(y_train, np.unique(target)[np.argmax(best_pred, axis=1)])"
   ]
  },
  {
   "cell_type": "code",
   "execution_count": 23,
   "metadata": {
    "collapsed": false
   },
   "outputs": [],
   "source": [
    "mix_valid_pred_probs = best_w1 * sgd_valid_pred_prob + (1 - best_w1) * forest_valid_pred_prob"
   ]
  },
  {
   "cell_type": "code",
   "execution_count": 24,
   "metadata": {
    "collapsed": false
   },
   "outputs": [
    {
     "name": "stdout",
     "output_type": "stream",
     "text": [
      "0.918776839725\n",
      "0.733823180849\n"
     ]
    }
   ],
   "source": [
    "print(log_loss(y_valid, mix_valid_pred_probs))\n",
    "print(accuracy_score(y_valid, np.unique(target)[np.argmax(mix_valid_pred_probs, axis=1)]))"
   ]
  },
  {
   "cell_type": "markdown",
   "metadata": {},
   "source": [
    "**Подведите итог: каковы метрики качества SGD и леса по отдельности на кросс-валидации по (X_train, y_train) и на проверочной выборке (X_valid, y_valid)? Каковы те же метрики для смеси предсказанных вероятностей SGD и леса?**"
   ]
  },
  {
   "cell_type": "markdown",
   "metadata": {},
   "source": [
    "<style type=\"text/css\">\n",
    ".tg  {border-collapse:collapse;border-spacing:0;}\n",
    ".tg td{font-family:Arial, sans-serif;font-size:14px;padding:10px 5px;border-style:solid;border-width:1px;overflow:hidden;word-break:normal;}\n",
    ".tg th{font-family:Arial, sans-serif;font-size:14px;font-weight:normal;padding:10px 5px;border-style:solid;border-width:1px;overflow:hidden;word-break:normal;}\n",
    ".tg .tg-e3zv{font-weight:bold}\n",
    ".tg .tg-hgcj{font-weight:bold;text-align:center}\n",
    ".tg .tg-9hbo{font-weight:bold;vertical-align:top}\n",
    ".tg .tg-amwm{font-weight:bold;text-align:center;vertical-align:top}\n",
    "</style>\n",
    "<table class=\"tg\">\n",
    "  <tr>\n",
    "    <th class=\"tg-e3zv\"></th>\n",
    "    <th class=\"tg-hgcj\">SGD</th>\n",
    "    <th class=\"tg-hgcj\">RF</th>\n",
    "    <th class=\"tg-hgcj\">$w_1*SGD+(1-w_1)*RF$</th>\n",
    "  </tr>\n",
    "  <tr>\n",
    "    <td class=\"tg-e3zv\">CV log_loss</td>\n",
    "    <td class=\"tg-hgcj\"><center>1.22</td>\n",
    "    <td class=\"tg-hgcj\"><center>3.46<br></td>\n",
    "    <td class=\"tg-hgcj\"><center>0.95</td>\n",
    "  </tr>\n",
    "  <tr>\n",
    "    <td class=\"tg-e3zv\">Holdout log_loss</td>\n",
    "    <td class=\"tg-hgcj\"><center>1.15</td>\n",
    "    <td class=\"tg-hgcj\"><center>3.31</td>\n",
    "    <td class=\"tg-hgcj\"><center>.92</td>\n",
    "  </tr>\n",
    "  <tr>\n",
    "    <td class=\"tg-e3zv\">CV accuracy</td>\n",
    "    <td class=\"tg-hgcj\"><center>0.71</td>\n",
    "    <td class=\"tg-hgcj\"><center>0.68</td>\n",
    "    <td class=\"tg-hgcj\"><center>.73</td>\n",
    "  </tr>\n",
    "  <tr>\n",
    "    <td class=\"tg-9hbo\">Holdout accuracy</td>\n",
    "    <td class=\"tg-amwm\"><center>0.71</td>\n",
    "    <td class=\"tg-amwm\"><center>0.68</td>\n",
    "    <td class=\"tg-amwm\"><center>.73</center></td>\n",
    "  </tr>\n",
    "</table>"
   ]
  }
 ],
 "metadata": {
  "kernelspec": {
   "display_name": "Python 3",
   "language": "python",
   "name": "python3"
  },
  "language_info": {
   "codemirror_mode": {
    "name": "ipython",
    "version": 3
   },
   "file_extension": ".py",
   "mimetype": "text/x-python",
   "name": "python",
   "nbconvert_exporter": "python",
   "pygments_lexer": "ipython3",
   "version": "3.6.0"
  }
 },
 "nbformat": 4,
 "nbformat_minor": 1
}
